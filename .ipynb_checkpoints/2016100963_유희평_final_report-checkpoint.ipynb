{
 "cells": [
  {
   "cell_type": "markdown",
   "metadata": {},
   "source": [
    "# 코로나바이러스 감염증-19의 진행과 수도권 지하철 이용객 수의 변화"
   ]
  },
  {
   "cell_type": "markdown",
   "metadata": {},
   "source": [
    "<br>\n",
    "<h4 style=\"color:#005577;\">1) 프로젝트의 목표와 내용</h4>\n",
    "\n",
    "      본 프로젝트의 목표는 코로나 19의 진행과 수도권 지하철 이용객 수의 변화를 분석하고 연구 가설을 검정한 후 회귀분석 모델을 만드는 것이다.\n",
    "      \n",
    "     가설 : 코로나 19 일일 확진자 수와 수도권 일일 지하철 이용객 수는 상관관계가 존재한다.\n",
    "     \n",
    "     가설을 검정하고,\n",
    "     X를 일일 확진자 수,Y를 일일 이용객 수로 하여 회귀모델을 만드는 것이 최종 목표이다.\n",
    "     \n",
    "<br>\n",
    "<br>\n",
    "<h4 style=\"color:#005577;\">2) 주제 선정 이유 또는 이 프로젝트의 필요성</h4>\n",
    "    \n",
    "     코로나 19는 사회적으로 큰 영향을 미쳤다. 오늘 확진자가 몇 명이고, 얼마나 늘어났는지에 따라 국가 기관, 기업, 학교, 회사, 자영업자 등 온 국민이 민감하게 반응했다. 본인 또한 코로나 19 발생 이후 접촉을 피하기 위해 대중교통을 많이 이용하지 않았지만 이용할 때마다 이용객 수가 상당히 줄은 것을 눈으로 볼 수 있었다. 이렇듯 코로나 19가 미치는 영향을 데이터와 통계 기법을 활용하여 확인해보고 싶어서 이 주제를 선정했다.\n",
    "  \n",
    "<br>     \n",
    "<h4 style=\"color:#005577;\">3) 데이터 획득</h4>\n",
    "\n",
    "    서울시 지하철호선별 역별 승하차 인원 정보\n",
    "    \n",
    "http://data.seoul.go.kr/dataList/OA-12914/S/1/datasetView.do\n",
    "\n",
    "    인코딩을 UTF-8에서 ANSI로 바꾸어주었다. UTF-8로 인코딩 되어 있을 경우 CP494 codec error 발생   \n",
    "    \n",
    "    \n",
    "   \n",
    "    코로나19 일일 데이터\n",
    "    \n",
    "https://puleunhaneulkr.tistory.com/52\n"
   ]
  },
  {
   "cell_type": "markdown",
   "metadata": {},
   "source": [
    "<br>\n",
    "<h4 style=\"color:#005577;\">4) 구현 내용 설명</h4>\n",
    "\n",
    "※아래 코드에서 특별한 언급이 없으면 모두 직접 구현했습니다."
   ]
  },
  {
   "cell_type": "markdown",
   "metadata": {},
   "source": [
    "1. <b>데이터 추상클래스</b>"
   ]
  },
  {
   "cell_type": "code",
   "execution_count": 1,
   "metadata": {},
   "outputs": [],
   "source": [
    "import pandas as pd\n",
    "import datetime as dt\n",
    "import matplotlib.pyplot as plt\n",
    "\n",
    "\n",
    "class Data:\n",
    "\n",
    "    def __init__(self, date_strat, date_end):\n",
    "\n",
    "        self.date_start = date_strat\n",
    "        self.date_end = date_end\n",
    "        self.df = pd.DataFrame()\n",
    "    \n",
    "    def initialize_df(self):\n",
    "        pass\n",
    "    \n",
    "    def print_df(self, day_of_week = None):\n",
    "\n",
    "        if day_of_week == None:\n",
    "            print(self.df)\n",
    "        else:\n",
    "            print(self.df[self.df['day_of_week'] == day_of_week])\n",
    "\n",
    "    def get_df(self):\n",
    "        return self.df"
   ]
  },
  {
   "cell_type": "markdown",
   "metadata": {},
   "source": [
    "지하철 데이터와 코로나 데이터 클래스에서 상속 받기위한 추상 클래스를 만들었다.\n",
    "\n",
    "빈 dataframe을 만들고 initialize_df()를 실행하면 해당 기간의 데이터를 dataframe으로 만들어 저장한다."
   ]
  },
  {
   "cell_type": "markdown",
   "metadata": {},
   "source": [
    "<br>\n",
    "2. <b>지하철 데이터 클래스</b>"
   ]
  },
  {
   "cell_type": "code",
   "execution_count": 2,
   "metadata": {},
   "outputs": [],
   "source": [
    "class Subway_Data(Data):\n",
    "\n",
    "    def initialize_df(self):\n",
    "\n",
    "        year_start = int(self.date_start[0:4])  #입력받은 데이터를 년, 월로 쪼갠다. (csv파일을 불러오기 위해)\n",
    "        month_start = int(self.date_start[4:6])\n",
    "        year_end = int(self.date_end[0:4])\n",
    "        month_end = int(self.date_end[4:6])\n",
    "        months = 12*(year_end-year_start)-month_start+month_end+1 #요청 기간을 달 수로 계산\n",
    "        df = pd.DataFrame() # 빈 df생성\n",
    "\n",
    "        for i in range(months):\n",
    "            if month_start+i > 12: # 1년이 지나면\n",
    "                year_start += 1 # 연도 + 1\n",
    "                month_start -= 12 #달 - 12\n",
    "            if(str(year_start)+str(month_start+i).zfill(2)<='202004'): \n",
    "                df_ = pd.read_csv('CARD_SUBWAY_MONTH_'+str(year_start)+str(month_start+i).zfill(2)+'.csv', encoding='CP949', \n",
    "                names=['date', 'line', 'station_id', 'station_name', 'num_on', 'num_off', 'date_rgs'] ) #파일 읽어오고 저장\n",
    "                df_ = df_.drop(0)\n",
    "                 \n",
    "                df_ = df_.drop('station_id', axis=1)\n",
    "                \n",
    "            elif(str(year_start)+str(month_start+i).zfill(2)<='202005'): #5월 데이터는 역 id를 제공하지 않음\n",
    "                df_ = pd.read_csv('CARD_SUBWAY_MONTH_'+str(year_start)+str(month_start+i).zfill(2)+'.csv', encoding='CP949', \n",
    "                names=['date', 'line', 'station_name', 'num_on', 'num_off', 'date_rgs'] )\n",
    "                df_ = df_.drop(0)\n",
    "                \n",
    "            if i == 0: #선택된 날짜까지만 저장\n",
    "                df_ = df_[df_['date'] >= self.date_start]\n",
    "            if i == months-1:\n",
    "                df_ = df_[df_['date'] <= self.date_end]\n",
    "                \n",
    "            df = pd.concat([df, df_], ignore_index=True)  #달로 분리된 df 합침\n",
    "\n",
    "        df['num_pass'] = df['line']# num_pass column생성\n",
    "        \n",
    "        for i in range(len(df)):\n",
    "            df['num_pass'].loc[i] = int(float(df['num_on'].loc[i])) + int(float(df['num_off'].loc[i])) \n",
    "            #float로 바꾸고 int로 바꿔야함\n",
    "            #승하차객 합쳐서 이용객으로 취급\n",
    "            \n",
    "        df['date'] = pd.to_datetime(df['date'], errors='coerce') #datetime 객체로 바꿔주고 \n",
    "        df['day_of_week'] = df['date'].dt.day_name()# 요일 계산하여 column추가\n",
    "        \n",
    "        #필요없는 데이터 제거\n",
    "        df = df.drop('num_on', axis=1)\n",
    "        df = df.drop('num_off', axis=1)\n",
    "        df = df.drop('date_rgs', axis=1)\n",
    "        \n",
    "        self.df = df\n",
    "\n",
    "    def get_subway_daily_df(self): #역당 일일 평균 이용객을 구하여 df만드는 함수\n",
    "\n",
    "        df = self.df\n",
    "        result_df = pd.DataFrame()\n",
    "        converted_date_start = dt.datetime.strptime(self.date_start, '%Y%m%d').date() #string날짜를 datetime객체로 바꿔줌\n",
    "        converted_date_end = dt.datetime.strptime(self.date_end, '%Y%m%d').date()\n",
    "        days = (converted_date_end-converted_date_start).days\n",
    "        \n",
    "        for i in range(days+1):\n",
    "            \n",
    "           date = converted_date_start + dt.timedelta(days=i)\n",
    "           converted_date = date.strftime('%Y%m%d')\n",
    "           #print(converted_date)\n",
    "           df_ = df[df['date'] == converted_date]\n",
    "           df__ = pd.DataFrame(data={'date': [date], 'num_pass': [df_['num_pass'].mean()], 'day_of_week' : [date.weekday()]}) #date.weekday()\n",
    "           #num_pass 는 모든 역의 일일 평균 이용객 수임\n",
    "           result_df = pd.concat([result_df, df__], ignore_index=True)\n",
    "           #if i == 1:\n",
    "           # print(df_)\n",
    "           # print(df_['num_pass'].mean())\n",
    "            \n",
    "        return result_df\n",
    "\n",
    "    def get_num_pass_mean(self, day_of_week = None):\n",
    "\n",
    "        if day_of_week == None:\n",
    "            return self.df['num_pass'].mean()\n",
    "        else:\n",
    "            return self.df[self.df['day_of_week'] == day_of_week]['num_pass'].mean()\n",
    "\n"
   ]
  },
  {
   "cell_type": "markdown",
   "metadata": {},
   "source": [
    "Data 클래스를 상속 받아 특정 기간 동안 지하철 데이터의 dataframe을 멤버 변수로 저장하는 클래스를 만들었다.\n",
    "\n",
    "get_subway_daily_df()는 역당 일일 평균 이용객 수를 구하여 그 dataframe을 반환한다.\n",
    "\n",
    "get_num_pass_mean()은 해당 요일의 역당 일일 평균 이용객 수를 구한다."
   ]
  },
  {
   "cell_type": "markdown",
   "metadata": {},
   "source": [
    "<br>\n",
    "2.1. Subway_Data 객체생성 예시"
   ]
  },
  {
   "cell_type": "code",
   "execution_count": 3,
   "metadata": {
    "scrolled": false
   },
   "outputs": [
    {
     "data": {
      "text/html": [
       "<div>\n",
       "<style scoped>\n",
       "    .dataframe tbody tr th:only-of-type {\n",
       "        vertical-align: middle;\n",
       "    }\n",
       "\n",
       "    .dataframe tbody tr th {\n",
       "        vertical-align: top;\n",
       "    }\n",
       "\n",
       "    .dataframe thead th {\n",
       "        text-align: right;\n",
       "    }\n",
       "</style>\n",
       "<table border=\"1\" class=\"dataframe\">\n",
       "  <thead>\n",
       "    <tr style=\"text-align: right;\">\n",
       "      <th></th>\n",
       "      <th>date</th>\n",
       "      <th>line</th>\n",
       "      <th>station_name</th>\n",
       "      <th>num_pass</th>\n",
       "      <th>day_of_week</th>\n",
       "    </tr>\n",
       "  </thead>\n",
       "  <tbody>\n",
       "    <tr>\n",
       "      <th>0</th>\n",
       "      <td>2019-10-01</td>\n",
       "      <td>일산선</td>\n",
       "      <td>주엽</td>\n",
       "      <td>23570</td>\n",
       "      <td>Tuesday</td>\n",
       "    </tr>\n",
       "    <tr>\n",
       "      <th>1</th>\n",
       "      <td>2019-10-01</td>\n",
       "      <td>일산선</td>\n",
       "      <td>정발산</td>\n",
       "      <td>19111</td>\n",
       "      <td>Tuesday</td>\n",
       "    </tr>\n",
       "    <tr>\n",
       "      <th>2</th>\n",
       "      <td>2019-10-01</td>\n",
       "      <td>일산선</td>\n",
       "      <td>마두</td>\n",
       "      <td>19808</td>\n",
       "      <td>Tuesday</td>\n",
       "    </tr>\n",
       "    <tr>\n",
       "      <th>3</th>\n",
       "      <td>2019-10-01</td>\n",
       "      <td>일산선</td>\n",
       "      <td>백석</td>\n",
       "      <td>25461</td>\n",
       "      <td>Tuesday</td>\n",
       "    </tr>\n",
       "    <tr>\n",
       "      <th>4</th>\n",
       "      <td>2019-10-01</td>\n",
       "      <td>일산선</td>\n",
       "      <td>대곡</td>\n",
       "      <td>3649</td>\n",
       "      <td>Tuesday</td>\n",
       "    </tr>\n",
       "  </tbody>\n",
       "</table>\n",
       "</div>"
      ],
      "text/plain": [
       "        date line station_name num_pass day_of_week\n",
       "0 2019-10-01  일산선           주엽    23570     Tuesday\n",
       "1 2019-10-01  일산선          정발산    19111     Tuesday\n",
       "2 2019-10-01  일산선           마두    19808     Tuesday\n",
       "3 2019-10-01  일산선           백석    25461     Tuesday\n",
       "4 2019-10-01  일산선           대곡     3649     Tuesday"
      ]
     },
     "execution_count": 3,
     "metadata": {},
     "output_type": "execute_result"
    }
   ],
   "source": [
    "test_subway = Subway_Data(\"20191001\", \"20200531\")\n",
    "test_subway.initialize_df()\n",
    "test_subway.df.head(5)\n"
   ]
  },
  {
   "cell_type": "markdown",
   "metadata": {},
   "source": [
    "<br>\n",
    "2.1. Subway_Data의 멤버 함수 get_subway_daily_df() 예시"
   ]
  },
  {
   "cell_type": "code",
   "execution_count": 4,
   "metadata": {},
   "outputs": [
    {
     "data": {
      "text/html": [
       "<div>\n",
       "<style scoped>\n",
       "    .dataframe tbody tr th:only-of-type {\n",
       "        vertical-align: middle;\n",
       "    }\n",
       "\n",
       "    .dataframe tbody tr th {\n",
       "        vertical-align: top;\n",
       "    }\n",
       "\n",
       "    .dataframe thead th {\n",
       "        text-align: right;\n",
       "    }\n",
       "</style>\n",
       "<table border=\"1\" class=\"dataframe\">\n",
       "  <thead>\n",
       "    <tr style=\"text-align: right;\">\n",
       "      <th></th>\n",
       "      <th>date</th>\n",
       "      <th>num_pass</th>\n",
       "      <th>day_of_week</th>\n",
       "    </tr>\n",
       "  </thead>\n",
       "  <tbody>\n",
       "    <tr>\n",
       "      <th>0</th>\n",
       "      <td>2019-10-01</td>\n",
       "      <td>28401.469697</td>\n",
       "      <td>1</td>\n",
       "    </tr>\n",
       "    <tr>\n",
       "      <th>1</th>\n",
       "      <td>2019-10-02</td>\n",
       "      <td>29064.196277</td>\n",
       "      <td>2</td>\n",
       "    </tr>\n",
       "    <tr>\n",
       "      <th>2</th>\n",
       "      <td>2019-10-03</td>\n",
       "      <td>19577.309645</td>\n",
       "      <td>3</td>\n",
       "    </tr>\n",
       "    <tr>\n",
       "      <th>3</th>\n",
       "      <td>2019-10-04</td>\n",
       "      <td>28528.878992</td>\n",
       "      <td>4</td>\n",
       "    </tr>\n",
       "    <tr>\n",
       "      <th>4</th>\n",
       "      <td>2019-10-05</td>\n",
       "      <td>24434.725888</td>\n",
       "      <td>5</td>\n",
       "    </tr>\n",
       "  </tbody>\n",
       "</table>\n",
       "</div>"
      ],
      "text/plain": [
       "         date      num_pass  day_of_week\n",
       "0  2019-10-01  28401.469697            1\n",
       "1  2019-10-02  29064.196277            2\n",
       "2  2019-10-03  19577.309645            3\n",
       "3  2019-10-04  28528.878992            4\n",
       "4  2019-10-05  24434.725888            5"
      ]
     },
     "execution_count": 4,
     "metadata": {},
     "output_type": "execute_result"
    }
   ],
   "source": [
    "test_subway.get_subway_daily_df().head(5)"
   ]
  },
  {
   "cell_type": "markdown",
   "metadata": {},
   "source": [
    "<br>\n",
    "3. <b>코로나 데이터 클래스</b>"
   ]
  },
  {
   "cell_type": "code",
   "execution_count": 5,
   "metadata": {},
   "outputs": [],
   "source": [
    "class Corona_Data(Data):\n",
    "\n",
    "    def initialize_df(self):\n",
    "        \n",
    "        #csv파일의 날짜 형식에 맞춰줌\n",
    "        date_start = self.date_start[0:4] + '-' + self.date_start[4:6] + '-' + self.date_start[6:8]\n",
    "        date_end = self.date_end[0:4] + '-' + self.date_end[4:6] + '-' + self.date_end[6:8]\n",
    "\n",
    "        df = pd.read_csv('wuhan_daily_diff.csv', encoding='CP949', names=['date', 'inspected', 'negative',\n",
    "        'confirmed', 'recoverd', 'deaths'])\n",
    "\n",
    "        df = df.drop(0)\n",
    "        df = df[df['date'] >= date_start]\n",
    "        df = df[df['date'] <= date_end]\n",
    "\n",
    "        df['date'] = pd.to_datetime(df['date'], errors='coerce') #datetime type으로 바꿈\n",
    "        df['day_of_week'] = df['date'].dt.day_name()\n",
    "        df['confirmed'] = df['confirmed'].astype(float)\n",
    "        df = df.reset_index(drop=True)\n",
    "\n",
    "        self.df = df "
   ]
  },
  {
   "cell_type": "markdown",
   "metadata": {},
   "source": [
    "Data 클래스를 상속받아 특정 기간 동안 코로나 데이터의 dataframe을 멤버 변수로 저장하는 클래스를 만들었다."
   ]
  },
  {
   "cell_type": "markdown",
   "metadata": {},
   "source": [
    "<br>\n",
    "3.1. Corona_Data 객체생성 예시"
   ]
  },
  {
   "cell_type": "code",
   "execution_count": 6,
   "metadata": {
    "scrolled": false
   },
   "outputs": [
    {
     "data": {
      "text/html": [
       "<div>\n",
       "<style scoped>\n",
       "    .dataframe tbody tr th:only-of-type {\n",
       "        vertical-align: middle;\n",
       "    }\n",
       "\n",
       "    .dataframe tbody tr th {\n",
       "        vertical-align: top;\n",
       "    }\n",
       "\n",
       "    .dataframe thead th {\n",
       "        text-align: right;\n",
       "    }\n",
       "</style>\n",
       "<table border=\"1\" class=\"dataframe\">\n",
       "  <thead>\n",
       "    <tr style=\"text-align: right;\">\n",
       "      <th></th>\n",
       "      <th>date</th>\n",
       "      <th>inspected</th>\n",
       "      <th>negative</th>\n",
       "      <th>confirmed</th>\n",
       "      <th>recoverd</th>\n",
       "      <th>deaths</th>\n",
       "      <th>day_of_week</th>\n",
       "    </tr>\n",
       "  </thead>\n",
       "  <tbody>\n",
       "    <tr>\n",
       "      <th>0</th>\n",
       "      <td>2020-05-01</td>\n",
       "      <td>4493.0</td>\n",
       "      <td>4676.0</td>\n",
       "      <td>6.0</td>\n",
       "      <td>51.0</td>\n",
       "      <td>2.0</td>\n",
       "      <td>Friday</td>\n",
       "    </tr>\n",
       "    <tr>\n",
       "      <th>1</th>\n",
       "      <td>2020-05-02</td>\n",
       "      <td>3411.0</td>\n",
       "      <td>3306.0</td>\n",
       "      <td>13.0</td>\n",
       "      <td>60.0</td>\n",
       "      <td>0.0</td>\n",
       "      <td>Saturday</td>\n",
       "    </tr>\n",
       "    <tr>\n",
       "      <th>2</th>\n",
       "      <td>2020-05-03</td>\n",
       "      <td>2948.0</td>\n",
       "      <td>3352.0</td>\n",
       "      <td>8.0</td>\n",
       "      <td>34.0</td>\n",
       "      <td>2.0</td>\n",
       "      <td>Sunday</td>\n",
       "    </tr>\n",
       "    <tr>\n",
       "      <th>3</th>\n",
       "      <td>2020-05-04</td>\n",
       "      <td>6316.0</td>\n",
       "      <td>5631.0</td>\n",
       "      <td>3.0</td>\n",
       "      <td>66.0</td>\n",
       "      <td>2.0</td>\n",
       "      <td>Monday</td>\n",
       "    </tr>\n",
       "    <tr>\n",
       "      <th>4</th>\n",
       "      <td>2020-05-05</td>\n",
       "      <td>2858.0</td>\n",
       "      <td>3705.0</td>\n",
       "      <td>2.0</td>\n",
       "      <td>50.0</td>\n",
       "      <td>1.0</td>\n",
       "      <td>Tuesday</td>\n",
       "    </tr>\n",
       "  </tbody>\n",
       "</table>\n",
       "</div>"
      ],
      "text/plain": [
       "        date inspected negative  confirmed recoverd deaths day_of_week\n",
       "0 2020-05-01    4493.0   4676.0        6.0     51.0    2.0      Friday\n",
       "1 2020-05-02    3411.0   3306.0       13.0     60.0    0.0    Saturday\n",
       "2 2020-05-03    2948.0   3352.0        8.0     34.0    2.0      Sunday\n",
       "3 2020-05-04    6316.0   5631.0        3.0     66.0    2.0      Monday\n",
       "4 2020-05-05    2858.0   3705.0        2.0     50.0    1.0     Tuesday"
      ]
     },
     "execution_count": 6,
     "metadata": {},
     "output_type": "execute_result"
    }
   ],
   "source": [
    "test_corona = Corona_Data(\"20200501\", \"20200531\")\n",
    "test_corona.initialize_df()\n",
    "test_corona.df.head(5)"
   ]
  },
  {
   "cell_type": "markdown",
   "metadata": {},
   "source": [
    "<br>\n",
    "4. <b>코로나 데이터와 지하철 데이터를 하나의 dataframe으로 만드는 함수</b>"
   ]
  },
  {
   "cell_type": "code",
   "execution_count": 7,
   "metadata": {},
   "outputs": [],
   "source": [
    "#parameter 설명\n",
    "\n",
    "#factor : 요일 보정(가중치)의 적용 정도\n",
    "#drop_holiday : 주말과 공휴일 보정 여부\n",
    "\n",
    "\n",
    "def concatenate(date_start, date_end, factor=0, drop_holiday=False):\n",
    "    \n",
    "    test_subway = Subway_Data(date_start, date_end) # 두 데이터 클래스 생성\n",
    "    test_corona = Corona_Data(date_start, date_end)\n",
    "    test_subway.initialize_df()\n",
    "    test_corona.initialize_df()\n",
    "    test_df = pd.concat([test_subway.get_subway_daily_df().set_index('date'), test_corona.get_df().set_index('date')], axis = 1) #date를 index로 하여 합친다.\n",
    "    test_df = test_df.loc[:,~test_df.columns.duplicated()] #중복 coloumn제거\n",
    "    test_df = test_df.drop('inspected', axis=1) #필요 없는 coloumn제거\n",
    "    test_df = test_df.drop('negative', axis=1)\n",
    "    test_df.index = pd.to_datetime(test_df.index) #인덱스에 접근하기위해 인덱스를 datetimeIndex로 비꾸어줌\n",
    "    #가중치 구하기\n",
    "    #요일 변수를 제거하기 위해 요일별로 가중치를 곱해줌\n",
    "    #factor는 가중치의 지수를 의미함\n",
    "    #factor = 0 -> 가중치 미적용\n",
    "    \n",
    "    if factor != 0 :\n",
    "        \n",
    "        test_weekday = Subway_Data('20170101', '20171231') #과거지하철 데이터러 요일별 평균을 내기\n",
    "        test_weekday.initialize_df()\n",
    "        weekday_list = ['Monday', 'Tuesday', 'Wednesday', 'Thursday', 'Friday', 'Saturday', 'Sunday'] #요일 리스트\n",
    "        num_pass_mean_list = [] #요일별 이용객 수가 저장될 리스트\n",
    "        weight_list = [] #요일별 가중치가 저장될 리스트\n",
    "        \n",
    "        \n",
    "        for weekday in weekday_list:\n",
    "            num_pass_mean_list.append(test_weekday.get_num_pass_mean(day_of_week=weekday)) #Subway_Data의 메소드를 사용하여 요일별 평균을 구함\n",
    "\n",
    "        mean = sum(num_pass_mean_list)/len(num_pass_mean_list) #요일별 평균 이용객 수의 평균을 구한다.\n",
    "        \n",
    "        for num_pass_mean in num_pass_mean_list:\n",
    "            weight_list.append((mean/num_pass_mean)**factor) #weight = 요일별 이용객 수 평균의 평균/요일별 평균\n",
    "\n",
    "        i = 0\n",
    "        for weight in weight_list: #가중치 곱해주기\n",
    "            test_df.loc[test_df['day_of_week'] == i, 'num_pass'] = test_df.loc[test_df['day_of_week'] == i, 'num_pass'] * weight\n",
    "            i += 1\n",
    "     \n",
    "    #출퇴근 인구가 적은 주말의 데이터 보정 여부\n",
    "    #주말을 끼고 있는 앙 옆의 금요일과 월요일의 이용객 수로 데이터 보정해줌\n",
    "    \n",
    "    if drop_holiday == True :\n",
    "        #주말 보정\n",
    "        len_df = len(test_df)\n",
    "        for i in range(len_df):\n",
    "            if test_df.iloc[i, 1] == 5 : #index의 요일(week_of_day)이 토요일일 때\n",
    "                if 0 < i < len_df-2 :\n",
    "                    test_df.iloc[i, 0] =  0 #test_df.iloc[i-1,0] + (1/3)*(test_df.iloc[i+2,0] - test_df.iloc[i-1,0]) #금요일과 월요일의 이용객 수 차를 1:2로 내분하는 지점 + 금요일 이용객 수\n",
    "                    \n",
    "                elif i == 0 :\n",
    "                    test_df.iloc[i, 0] = test_df.iloc[i+2, 0]\n",
    "                elif i >= len_df -2 :\n",
    "                    test_df.iloc[i, 0] = test_df.iloc[i-1, 0]\n",
    "            elif test_df.iloc[i, 1] == 6 :\n",
    "                if 1 < i < len_df -1 :\n",
    "                    test_df.iloc[i, 0] = 0 #test_df.iloc[i+1,0] - (1/3)*(test_df.iloc[i+1,0] - test_df.iloc[i-2,0]) # 2:1로 내분하는 지점\n",
    "                elif i <= 1 :\n",
    "                    test_df.iloc[i, 0] = test_df.iloc[i+1, 0]\n",
    "                elif i >= len_df -1 :\n",
    "                    test_df.iloc[i, 0] = test_df.iloc[i-2, 0]\n",
    "        #공휴일 보정\n",
    "        \n",
    "        #4.30 부처님오신날\n",
    "        #5.1 근로자의날\n",
    "        #5.2 토요일 5.3 일요일\n",
    "        #5.4 연휴\n",
    "        #5.5 어린이날\n",
    "        #이 구간만 추출하면 에러 발생할 수 있음\n",
    "        if date_end == '20200430' > date_start:\n",
    "            test_df.loc['2020-04-30', 'num_pass'] = test_df.loc['2020-04-29', 'num_pass']\n",
    "        elif date_end > '20200504' and '20200430' > date_start :\n",
    "            test_df.loc['2020-04-30', 'num_pass'] = test_df.loc['2020-04-29', 'num_pass'] + (1/7)*( test_df.loc['2020-05-06', 'num_pass']- test_df.loc['2020-04-29', 'num_pass'])\n",
    "            test_df.loc['2020-05-01', 'num_pass'] = test_df.loc['2020-04-29', 'num_pass'] + (2/7)*( test_df.loc['2020-05-06', 'num_pass']- test_df.loc['2020-04-29', 'num_pass'])\n",
    "            test_df.loc['2020-05-04', 'num_pass'] = test_df.loc['2020-04-29', 'num_pass'] + (5/7)*( test_df.loc['2020-05-06', 'num_pass']- test_df.loc['2020-04-29', 'num_pass'])\n",
    "            test_df.loc['2020-05-05', 'num_pass'] = test_df.loc['2020-04-29', 'num_pass'] + (6/7)*( test_df.loc['2020-05-06', 'num_pass']- test_df.loc['2020-04-29', 'num_pass'])\n",
    "        \n",
    "        #4.15 총선   \n",
    "        if date_end == '20200415' > date_start :\n",
    "            test_df.loc['2020-04-15', 'num_pass'] = test_df.loc['2020-04-14', 'num_pass'] \n",
    "        elif date_end > '20200415' > date_start :\n",
    "            test_df.loc['2020-04-15', 'num_pass'] = 0.5*(test_df.loc['2020-04-14', 'num_pass'] + test_df.loc['2020-04-16', 'num_pass'])\n",
    "\n",
    "        for i in range(len_df):\n",
    "            if test_df.iloc[i, 1] == 5 : #index의 요일(week_of_day)이 토요일일 때\n",
    "                if 0 < i < len_df-2 :\n",
    "                    test_df.iloc[i, 0] = test_df.iloc[i-1,0] + (1/3)*(test_df.iloc[i+2,0] - test_df.iloc[i-1,0])\n",
    "                    #금요일과 월요일의 이용객 수 차를 1:2로 내분하는 지점 + 금요일 이용객 수\n",
    "                elif i == 0 :\n",
    "                    test_df.iloc[i, 0] = test_df.iloc[i+2, 0]\n",
    "                elif i >= len_df -2 :\n",
    "                    test_df.iloc[i, 0] = test_df.iloc[i-1, 0]\n",
    "            elif test_df.iloc[i, 1] == 6 :\n",
    "                if 1 < i < len_df -1 :\n",
    "                    test_df.iloc[i, 0] = test_df.iloc[i+1,0] - (1/3)*(test_df.iloc[i+1,0] - test_df.iloc[i-2,0]) # 2:1로 내분하는 지점\n",
    "                elif i <= 1 :\n",
    "                    test_df.iloc[i, 0] = test_df.iloc[i+1, 0]\n",
    "                elif i >= len_df -1 :\n",
    "                    test_df.iloc[i, 0] = test_df.iloc[i-2, 0]\n",
    "\n",
    "\n",
    "    test_df = test_df.drop('day_of_week', axis=1)\n",
    "    \n",
    "    return test_df\n"
   ]
  },
  {
   "cell_type": "markdown",
   "metadata": {},
   "source": [
    "4.1. factor에 대한 설명"
   ]
  },
  {
   "cell_type": "markdown",
   "metadata": {},
   "source": [
    " 지하철 이용객 수의 요일에 대한 영향을 제거하기 위해 요일마다 가중치를 적용할 수 있게 만들었다. \n",
    "과거 데이터에서 요일별로 이용객 평균을 구하여 이 요일별 평균의 평균값에서 나누어 주었다.\n",
    "특정 요일의 이용객 수가 낮다면 가중치가 1보다 클 것이고, 반대로 높다면 가중치가 1보다 낮을 것이다.\n",
    "이 가중치의 지수인 factor를 통해 보정 정도를 정할 수 있다.\n",
    "\n",
    "![](plot\\factor.png)"
   ]
  },
  {
   "cell_type": "markdown",
   "metadata": {},
   "source": [
    "4.2. drop_holiday에 대한 설명"
   ]
  },
  {
   "cell_type": "markdown",
   "metadata": {},
   "source": [
    "주말이나 공휴일에는 출퇴근 인구가 적기 때문에, 그래프를 그려보면 평일에 비해 주말에 지하철 이용객 수가 적은 것을 확인할 수 있다. 주말 값을 보정함으로서 요일과 공휴일에 대한 영향을 낮출 수 있다. 그래프상에서 주말을 끼고 있는 금요일과 월요일 점을 직선으로 잇고 그 직선 위의 점으로 토요일과 일요일의 이용객 수를 바꿔주었다. 비슷한 방법으로 공휴일은 해당 기간 전날과 다음날의 점을 직선으로 잇고 그 직선 위의 점으로 공휴일의 이용객 수를 바꿔주었다. (2020년 4월 15일 총선, 4월 30일 부처님 오신날, 5월 1일 근로자의 날, 5월 4일 연휴, 5월 5일 어린이날)\n",
    "\n",
    "![](plot\\undropped.png)\n",
    "![](plot\\dropped.png)"
   ]
  },
  {
   "cell_type": "markdown",
   "metadata": {},
   "source": [
    "<br>\n",
    "4.3. concatenate() 실행 예시"
   ]
  },
  {
   "cell_type": "code",
   "execution_count": 8,
   "metadata": {
    "scrolled": true
   },
   "outputs": [
    {
     "data": {
      "text/html": [
       "<div>\n",
       "<style scoped>\n",
       "    .dataframe tbody tr th:only-of-type {\n",
       "        vertical-align: middle;\n",
       "    }\n",
       "\n",
       "    .dataframe tbody tr th {\n",
       "        vertical-align: top;\n",
       "    }\n",
       "\n",
       "    .dataframe thead th {\n",
       "        text-align: right;\n",
       "    }\n",
       "</style>\n",
       "<table border=\"1\" class=\"dataframe\">\n",
       "  <thead>\n",
       "    <tr style=\"text-align: right;\">\n",
       "      <th></th>\n",
       "      <th>num_pass</th>\n",
       "      <th>confirmed</th>\n",
       "      <th>recoverd</th>\n",
       "      <th>deaths</th>\n",
       "    </tr>\n",
       "    <tr>\n",
       "      <th>date</th>\n",
       "      <th></th>\n",
       "      <th></th>\n",
       "      <th></th>\n",
       "      <th></th>\n",
       "    </tr>\n",
       "  </thead>\n",
       "  <tbody>\n",
       "    <tr>\n",
       "      <th>2020-02-10</th>\n",
       "      <td>23540.001692</td>\n",
       "      <td>1.0</td>\n",
       "      <td>1.0</td>\n",
       "      <td>0.0</td>\n",
       "    </tr>\n",
       "    <tr>\n",
       "      <th>2020-02-11</th>\n",
       "      <td>24388.129032</td>\n",
       "      <td>0.0</td>\n",
       "      <td>3.0</td>\n",
       "      <td>0.0</td>\n",
       "    </tr>\n",
       "    <tr>\n",
       "      <th>2020-02-12</th>\n",
       "      <td>23633.272881</td>\n",
       "      <td>0.0</td>\n",
       "      <td>0.0</td>\n",
       "      <td>0.0</td>\n",
       "    </tr>\n",
       "    <tr>\n",
       "      <th>2020-02-13</th>\n",
       "      <td>24709.585448</td>\n",
       "      <td>0.0</td>\n",
       "      <td>0.0</td>\n",
       "      <td>0.0</td>\n",
       "    </tr>\n",
       "    <tr>\n",
       "      <th>2020-02-14</th>\n",
       "      <td>26139.037288</td>\n",
       "      <td>0.0</td>\n",
       "      <td>2.0</td>\n",
       "      <td>0.0</td>\n",
       "    </tr>\n",
       "  </tbody>\n",
       "</table>\n",
       "</div>"
      ],
      "text/plain": [
       "                num_pass  confirmed recoverd deaths\n",
       "date                                               \n",
       "2020-02-10  23540.001692        1.0      1.0    0.0\n",
       "2020-02-11  24388.129032        0.0      3.0    0.0\n",
       "2020-02-12  23633.272881        0.0      0.0    0.0\n",
       "2020-02-13  24709.585448        0.0      0.0    0.0\n",
       "2020-02-14  26139.037288        0.0      2.0    0.0"
      ]
     },
     "execution_count": 8,
     "metadata": {},
     "output_type": "execute_result"
    }
   ],
   "source": [
    "test_concatenate = concatenate(date_start=\"20200210\", date_end=\"20200531\", factor=0, drop_holiday=False)\n",
    "test_concatenate.head(5)\n"
   ]
  },
  {
   "cell_type": "markdown",
   "metadata": {},
   "source": [
    "<br>\n",
    "<h4 style=\"color:#005577;\">5) 분석 결과 또는 구현 결과</h4>\n"
   ]
  },
  {
   "cell_type": "markdown",
   "metadata": {},
   "source": [
    "<br>\n",
    "1. <b>전반적인 분석</b>"
   ]
  },
  {
   "cell_type": "markdown",
   "metadata": {},
   "source": [
    "<br>\n",
    "1.1. 이용객 수와 확진자 수 그래프"
   ]
  },
  {
   "cell_type": "code",
   "execution_count": 9,
   "metadata": {
    "scrolled": true
   },
   "outputs": [
    {
     "data": {
      "image/png": "[encoded data removed]",
      "text/plain": [
       "<Figure size 432x288 with 2 Axes>"
      ]
     },
     "metadata": {
      "needs_background": "light"
     },
     "output_type": "display_data"
    }
   ],
   "source": [
    "fig = plt.figure()\n",
    "\n",
    "test_df = concatenate('20200210','20200531', factor=0, drop_holiday=False) # factor=0, drop_holiday=False\n",
    "ax1 = fig.add_subplot(2, 1, 1)\n",
    "ax1 = test_df['num_pass'].plot(kind='line')\n",
    "ax1.set_ylabel('num passenger')\n",
    "ax1 = test_df['confirmed'].plot(secondary_y=True, kind='line', color='red')\n",
    "ax1.set_ylabel('num confirmed')\n",
    "\n",
    "plt.legend(['num_confirmed'], bbox_to_anchor=(1.05, 1.0))\n",
    "plt.title('Changes in subway use')\n",
    "plt.show()"
   ]
  },
  {
   "cell_type": "markdown",
   "metadata": {},
   "source": [
    "<em>factor=0, drop_holiday=False</em>\n",
    " \n",
    " 2019년 12월 1일부터 2020년 5월 31일까지 지하철 이용객 수와 코로나19 확진자를 나타낸 그래프이다. 2020년 1월 19일에 국내 첫 확진자가 생긴 시점부터 지하철 이용량도 점차 감소하다가 신천지 사태로 급속하게 전파가 진행되고 지하철 이용량이 가파르게 줄어든다. 일일 확진자 수는 100명 이하로 떨어지고, 지하철 이용객 수도 조금씩 상승하는 모습을 볼 수 있다. "
   ]
  },
  {
   "cell_type": "markdown",
   "metadata": {},
   "source": [
    "<br>\n",
    "1.2. 연도별 이용객 수 그래프"
   ]
  },
  {
   "cell_type": "code",
   "execution_count": 10,
   "metadata": {
    "scrolled": false
   },
   "outputs": [
    {
     "data": {
      "image/png": "[encoded data removed]",
      "text/plain": [
       "<Figure size 432x288 with 1 Axes>"
      ]
     },
     "metadata": {
      "needs_background": "light"
     },
     "output_type": "display_data"
    }
   ],
   "source": [
    "fig = plt.figure()\n",
    "\n",
    "test_subway1 = Subway_Data(\"20180201\", \"20180531\")\n",
    "test_subway2 = Subway_Data(\"20190201\", \"20190531\")\n",
    "test_subway3 = Subway_Data(\"20200201\", \"20200531\")\n",
    "test_subway1.initialize_df()\n",
    "test_subway2.initialize_df()\n",
    "test_subway3.initialize_df()\n",
    "test_df1 = test_subway1.get_subway_daily_df()\n",
    "test_df2 = test_subway2.get_subway_daily_df()\n",
    "test_df3 = test_subway3.get_subway_daily_df()\n",
    "\n",
    "ax1 = fig.add_subplot(3, 1, 1)\n",
    "ax1 = test_df1['num_pass'].plot(kind='line', color='blue')\n",
    "ax1 = test_df2['num_pass'].plot(kind='line', color='green')\n",
    "ax1 = test_df3['num_pass'].plot(kind='line', color='red', linewidth=2.0)\n",
    "ax1.set_ylabel('num passenger')\n",
    "ax1.set_xlabel('2.01~5.31')\n",
    "plt.legend(['2018', '2019', '2020'], bbox_to_anchor=(1.05, 1.0))\n",
    "plt.title('Changes in subway use')\n",
    "plt.show()"
   ]
  },
  {
   "cell_type": "markdown",
   "metadata": {},
   "source": [
    "<em>factor=0, drop_holiday=False<br> 2020.02.01 ~ 2020.05.31</em>\n",
    "\n",
    "  \n",
    "\n",
    "2020년(빨간색) 이용객 수가 2018,2019년 동기 대비 감소한 것을 확인할 수 있다. 2019년(초록색) 초반에 낮은 부분은 설날 연휴였다."
   ]
  },
  {
   "cell_type": "markdown",
   "metadata": {},
   "source": [
    "<br>\n",
    "2. <b>가설 검정 : 코로나 19 일일 확진자 수와 수도권 일일 지하철 이용객 수는 상관관계가 존재한다.</b>\n",
    "\n",
    "(2020년 2월 7일부터 2020년 5월 31일까지)"
   ]
  },
  {
   "cell_type": "markdown",
   "metadata": {},
   "source": [
    "2.1. factor=0, drop_holiday=False"
   ]
  },
  {
   "cell_type": "code",
   "execution_count": 11,
   "metadata": {
    "scrolled": true
   },
   "outputs": [
    {
     "data": {
      "text/plain": [
       "<Figure size 432x288 with 0 Axes>"
      ]
     },
     "metadata": {},
     "output_type": "display_data"
    },
    {
     "data": {
      "image/png": "[encoded data removed]",
      "text/plain": [
       "<Figure size 432x288 with 1 Axes>"
      ]
     },
     "metadata": {
      "needs_background": "light"
     },
     "output_type": "display_data"
    },
    {
     "name": "stdout",
     "output_type": "stream",
     "text": [
      "--------Correlation analysis--------\n",
      "\n",
      "           num_pass  confirmed\n",
      "num_pass   1.000000  -0.161879\n",
      "confirmed -0.161879   1.000000\n"
     ]
    }
   ],
   "source": [
    "test_df = concatenate('20200207','20200531')\n",
    "\n",
    "fig = plt.figure()\n",
    "ax1.set_xticklabels('confirmed', rotation=0)\n",
    "ax1 = test_df.plot.scatter(x='confirmed', y='num_pass')\n",
    "ax1.set_ylabel('num passenger')\n",
    "ax1.set_xlabel('num daliy confrimed')\n",
    "plt.title('factor=0, drop_holiday=False')\n",
    "plt.show()\n",
    "\n",
    "corr = test_df.corr(method ='pearson') #피어슨 상관 분석\n",
    "print(\"--------Correlation analysis--------\\n\")\n",
    "print(corr)"
   ]
  },
  {
   "cell_type": "markdown",
   "metadata": {},
   "source": [
    "<em>factor=0, drop_holiday=False</em>\n",
    "\n",
    "<b>correlation coefficient = -0.162</b>\n",
    "\n",
    "아무 보정을 하지 않았을 때는 아주 약한 음적 선형관계를 가진다."
   ]
  },
  {
   "cell_type": "markdown",
   "metadata": {},
   "source": [
    "<br>\n",
    "2.2. factor=1.5, drop_holiday=False"
   ]
  },
  {
   "cell_type": "code",
   "execution_count": 12,
   "metadata": {
    "scrolled": true
   },
   "outputs": [
    {
     "data": {
      "text/plain": [
       "<Figure size 432x288 with 0 Axes>"
      ]
     },
     "metadata": {},
     "output_type": "display_data"
    },
    {
     "data": {
      "image/png": "[encoded data removed]",
      "text/plain": [
       "<Figure size 432x288 with 1 Axes>"
      ]
     },
     "metadata": {
      "needs_background": "light"
     },
     "output_type": "display_data"
    },
    {
     "name": "stdout",
     "output_type": "stream",
     "text": [
      "--------Correlation analysis--------\n",
      "\n",
      "           num_pass  confirmed\n",
      "num_pass   1.000000  -0.398509\n",
      "confirmed -0.398509   1.000000\n"
     ]
    }
   ],
   "source": [
    "test_df = concatenate('20200207','20200531', factor=1.5)\n",
    "\n",
    "fig = plt.figure()\n",
    "ax1.set_xticklabels('confirmed', rotation=0)\n",
    "ax1 = test_df.plot.scatter(x='confirmed', y='num_pass')\n",
    "ax1.set_ylabel('num passenger')\n",
    "ax1.set_xlabel('num daliy confrimed')\n",
    "plt.title('2.2. factor=1.5, drop_holiday=False')\n",
    "plt.show()\n",
    "\n",
    "corr = test_df.corr(method ='pearson') #피어슨 상관 분석\n",
    "print(\"--------Correlation analysis--------\\n\")\n",
    "print(corr)"
   ]
  },
  {
   "cell_type": "markdown",
   "metadata": {},
   "source": [
    "<em>factor=1.5, drop_holiday=False</em>\n",
    "\n",
    "<b>correlation coefficient = -0.399</b>\n",
    "\n",
    "요일별 가중치를 곱하여 보정 했을때는 음적 선형관계를 가진다."
   ]
  },
  {
   "cell_type": "markdown",
   "metadata": {},
   "source": [
    "<br>\n",
    "2.3. factor=0, drop_holiday=True"
   ]
  },
  {
   "cell_type": "code",
   "execution_count": 13,
   "metadata": {
    "scrolled": true
   },
   "outputs": [
    {
     "data": {
      "text/plain": [
       "<Figure size 432x288 with 0 Axes>"
      ]
     },
     "metadata": {},
     "output_type": "display_data"
    },
    {
     "data": {
      "image/png": "[encoded data removed]",
      "text/plain": [
       "<Figure size 432x288 with 1 Axes>"
      ]
     },
     "metadata": {
      "needs_background": "light"
     },
     "output_type": "display_data"
    },
    {
     "name": "stdout",
     "output_type": "stream",
     "text": [
      "--------Correlation analysis--------\n",
      "\n",
      "           num_pass  confirmed\n",
      "num_pass   1.000000  -0.544051\n",
      "confirmed -0.544051   1.000000\n"
     ]
    }
   ],
   "source": [
    "test_df = concatenate('20200207','20200531', factor=0, drop_holiday=True)\n",
    "\n",
    "fig = plt.figure()\n",
    "ax1.set_xticklabels('confirmed', rotation=0)\n",
    "ax1 = test_df.plot.scatter(x='confirmed', y='num_pass')\n",
    "ax1.set_ylabel('num passenger')\n",
    "ax1.set_xlabel('num daliy confrimed')\n",
    "plt.title('factor=0, drop_holiday=True')\n",
    "plt.show()\n",
    "\n",
    "corr = test_df.corr(method ='pearson') #피어슨 상관 분석\n",
    "print(\"--------Correlation analysis--------\\n\")\n",
    "print(corr)"
   ]
  },
  {
   "cell_type": "markdown",
   "metadata": {},
   "source": [
    "<em>factor=0, drop_holiday=True</em>\n",
    "\n",
    "<b>correlation coefficient = -0.544</b>\n",
    "\n",
    "주말, 공휴일을 제거하고 보정 했을 때는 상당한 음적 선형관계를 가진다."
   ]
  },
  {
   "cell_type": "markdown",
   "metadata": {},
   "source": [
    "<br>\n",
    "2.4. factor=1.5, drop_holiday=True"
   ]
  },
  {
   "cell_type": "code",
   "execution_count": 14,
   "metadata": {
    "scrolled": true
   },
   "outputs": [
    {
     "data": {
      "text/plain": [
       "<Figure size 432x288 with 0 Axes>"
      ]
     },
     "metadata": {},
     "output_type": "display_data"
    },
    {
     "data": {
      "image/png": "[encoded data removed]",
      "text/plain": [
       "<Figure size 432x288 with 1 Axes>"
      ]
     },
     "metadata": {
      "needs_background": "light"
     },
     "output_type": "display_data"
    },
    {
     "name": "stdout",
     "output_type": "stream",
     "text": [
      "--------Correlation analysis--------\n",
      "\n",
      "           num_pass  confirmed\n",
      "num_pass   1.000000  -0.561479\n",
      "confirmed -0.561479   1.000000\n"
     ]
    }
   ],
   "source": [
    "test_df = concatenate('20200207','20200531', factor=1.5, drop_holiday=True)\n",
    "\n",
    "fig = plt.figure()\n",
    "ax1.set_xticklabels('confirmed', rotation=0)\n",
    "ax1 = test_df.plot.scatter(x='confirmed', y='num_pass')\n",
    "ax1.set_ylabel('num passenger')\n",
    "ax1.set_xlabel('num daliy confrimed')\n",
    "plt.title('factor=1.5, drop_holiday=True')\n",
    "plt.show()\n",
    "\n",
    "corr = test_df.corr(method ='pearson') #피어슨 상관 분석\n",
    "print(\"--------Correlation analysis--------\\n\")\n",
    "print(corr)"
   ]
  },
  {
   "cell_type": "markdown",
   "metadata": {},
   "source": [
    "<em>factor=1.5, drop_holiday=True</em>\n",
    "\n",
    "<b>correlation coefficient = -0.561</b>\n",
    "\n",
    "요일별 가중치를 곱해주고 주말, 공휴일을 제거하고 보정 했을 때는 음적 선형관계를 가진다."
   ]
  },
  {
   "cell_type": "markdown",
   "metadata": {},
   "source": [
    "<br>\n",
    "3. <b>회귀 모델<b>"
   ]
  },
  {
   "cell_type": "markdown",
   "metadata": {},
   "source": [
    "<br>\n",
    "3.1. 선형 회귀 모델"
   ]
  },
  {
   "cell_type": "code",
   "execution_count": 15,
   "metadata": {
    "scrolled": true
   },
   "outputs": [
    {
     "data": {
      "image/png": "[encoded data removed]",
      "text/plain": [
       "<Figure size 432x288 with 1 Axes>"
      ]
     },
     "metadata": {
      "needs_background": "light"
     },
     "output_type": "display_data"
    },
    {
     "name": "stdout",
     "output_type": "stream",
     "text": [
      "explained_variance_score: 0.3152586438094429\n",
      "mean_squared_errors: 2807475.699602295\n",
      "r2_score: 0.315258643809443\n"
     ]
    }
   ],
   "source": [
    "from sklearn.linear_model import LinearRegression\n",
    "from sklearn.metrics import f1_score\n",
    "\n",
    "\n",
    "\"\"\"\n",
    "소스 출처 : https://frhyme.github.io/machine-learning/regression_evaluation_score/\n",
    "\"\"\"\n",
    "from sklearn.metrics import explained_variance_score, mean_squared_error, mean_absolute_error, r2_score\n",
    "    \n",
    "def PrintRegScore(y_true, y_pred):\n",
    "    print('explained_variance_score: {}'.format(explained_variance_score(y_true, y_pred)))\n",
    "    print('mean_squared_errors: {}'.format(mean_squared_error(y_true, y_pred)))\n",
    "    print('r2_score: {}'.format(r2_score(y_true, y_pred)))\n",
    "\n",
    "\n",
    "\"\"\"\n",
    "소스 출처 https://frhyme.github.io/machine-learning/regression_evaluation_score/\n",
    "\"\"\"\n",
    "\n",
    "test_df = concatenate('20200207','20200531', factor=1.5, drop_holiday=True)\n",
    "X = test_df['confirmed']\n",
    "y = test_df['num_pass']\n",
    "line_fitter = LinearRegression()\n",
    "line_fitter.fit(X.values.reshape(-1,1), y)\n",
    "y_pred = line_fitter.fit(X.values.reshape(-1,1), y).predict(X.values.reshape(-1,1))\n",
    "plt.plot(X, y, 'o')\n",
    "plt.plot(X,line_fitter.predict(X.values.reshape(-1,1)))\n",
    "plt.title('LinearRegression')\n",
    "plt.ylabel('num passenger')\n",
    "plt.xlabel('num daliy confrimed')\n",
    "plt.show()\n",
    "PrintRegScore(y, y_pred)\n",
    "#f1_score(Y, Y_pred, average='macro')"
   ]
  },
  {
   "cell_type": "markdown",
   "metadata": {},
   "source": [
    "R-Squared값이 0.315이다. 확진자 수가 적을 수록 이용객 수를 예측하기 힘들어진다."
   ]
  },
  {
   "cell_type": "markdown",
   "metadata": {},
   "source": [
    "<br>\n",
    "3.2. 다항 회귀 모델"
   ]
  },
  {
   "cell_type": "code",
   "execution_count": 16,
   "metadata": {
    "scrolled": true
   },
   "outputs": [
    {
     "data": {
      "image/png": "[encoded data removed]",
      "text/plain": [
       "<Figure size 432x288 with 1 Axes>"
      ]
     },
     "metadata": {
      "needs_background": "light"
     },
     "output_type": "display_data"
    },
    {
     "name": "stdout",
     "output_type": "stream",
     "text": [
      "explained_variance_score: 0.45936692246334687\n",
      "mean_squared_errors: 2216624.151386825\n",
      "r2_score: 0.45936692246334687\n"
     ]
    }
   ],
   "source": [
    "test_df = concatenate('20200207','20200531', factor=1.5, drop_holiday=True)\n",
    "X = test_df['confirmed']\n",
    "Y = test_df['num_pass']\n",
    "X = X.values.reshape(-1,1)\n",
    "\"\"\"\n",
    "소스 출처 : https://m.blog.naver.com/PostView.nhn?blogId=tt2t2am1118&logNo=221182074409&proxyReferer=https:%2F%2Fwww.google.com%2F\n",
    "\"\"\"\n",
    "# Fitting Polynomial Regression to the data set.\n",
    "from sklearn.preprocessing import PolynomialFeatures\n",
    "poly_reg = PolynomialFeatures(degree = 3) # X에 대한 3차함수식\n",
    "X_poly = poly_reg.fit_transform(X)\n",
    "lin_reg_2 = LinearRegression()\n",
    "lin_reg_2.fit(X_poly, Y)\n",
    "# Visualising the Linear Regression results\n",
    "plt.plot(X, Y, 'o')\n",
    "Y_pred = lin_reg_2.predict(poly_reg.fit_transform(X))\n",
    "plt.plot(X, Y_pred)\n",
    "\"\"\"\n",
    "소스 출처 : https://m.blog.naver.com/PostView.nhn?blogId=tt2t2am1118&logNo=221182074409&proxyReferer=https:%2F%2Fwww.google.com%2F\n",
    "\"\"\"\n",
    "plt.title('Polynomial Regession : degree = 3')\n",
    "plt.ylabel('num passenger')\n",
    "plt.xlabel('num daliy confrimed')\n",
    "plt.show()\n",
    "PrintRegScore(Y, Y_pred)\n",
    "#f1_score(Y, Y_pred, average='macro')"
   ]
  },
  {
   "cell_type": "markdown",
   "metadata": {},
   "source": [
    "<br>\n",
    "이 모델은 3차식이다. R-Squared값이 0.460으로 선형 모델보다 개선되었다.\n",
    "<br>"
   ]
  },
  {
   "cell_type": "code",
   "execution_count": 17,
   "metadata": {},
   "outputs": [
    {
     "data": {
      "image/png": "[encoded data removed]",
      "text/plain": [
       "<Figure size 432x288 with 1 Axes>"
      ]
     },
     "metadata": {
      "needs_background": "light"
     },
     "output_type": "display_data"
    },
    {
     "name": "stdout",
     "output_type": "stream",
     "text": [
      "explained_variance_score: 0.5583973095103619\n",
      "mean_squared_errors: 1810594.3378767248\n",
      "r2_score: 0.558397309510362\n"
     ]
    }
   ],
   "source": [
    "test_df = concatenate('20200207','20200531', factor=1.5, drop_holiday=True)\n",
    "X = test_df['confirmed']\n",
    "Y = test_df['num_pass']\n",
    "X = X.values.reshape(-1,1)\n",
    "\"\"\"\n",
    "소스 출처 : https://m.blog.naver.com/PostView.nhn?blogId=tt2t2am1118&logNo=221182074409&proxyReferer=https:%2F%2Fwww.google.com%2F\n",
    "\"\"\"\n",
    "# Fitting Polynomial Regression to the data set.\n",
    "from sklearn.preprocessing import PolynomialFeatures\n",
    "poly_reg = PolynomialFeatures(degree = 5) # X에 대한 3차함수식\n",
    "X_poly = poly_reg.fit_transform(X)\n",
    "lin_reg_2 = LinearRegression()\n",
    "lin_reg_2.fit(X_poly, Y)\n",
    "# Visualising the Linear Regression results\n",
    "plt.plot(X, Y, 'o')\n",
    "Y_pred = lin_reg_2.predict(poly_reg.fit_transform(X))\n",
    "plt.plot(X, Y_pred)\n",
    "\"\"\"\n",
    "소스 출처 : https://m.blog.naver.com/PostView.nhn?blogId=tt2t2am1118&logNo=221182074409&proxyReferer=https:%2F%2Fwww.google.com%2F\n",
    "\"\"\"\n",
    "plt.title('Polynomial Regession : degree = 5')\n",
    "plt.ylabel('num passenger')\n",
    "plt.xlabel('num daliy confrimed')\n",
    "plt.show()\n",
    "PrintRegScore(Y, Y_pred)\n",
    "#f1_score(Y, Y_pred, average='macro')"
   ]
  },
  {
   "cell_type": "markdown",
   "metadata": {},
   "source": [
    "<br>\n",
    "이 모델은 5차식이다. R-Squared값이 0.559이며 3차식 모델보다 좋은 R-Squared값을 보이지만 과적합이 일어난 것으로 보인다."
   ]
  },
  {
   "cell_type": "markdown",
   "metadata": {},
   "source": [
    "<br>\n",
    "<h4 style=\"color:#005577;\">6) 결론</h4>\n",
    "\n",
    "<br>\n",
    "1. <b>가설 검정 : 코로나 19 일일 확진자 수와 수도권 일일 지하철 이용객 수는 상관관계가 존재한다.</b>"
   ]
  },
  {
   "cell_type": "markdown",
   "metadata": {},
   "source": [
    "![](plot\\uw+ud.png)\n",
    "<p style=\"text-align:center;\">correlation coefficient = -0.162</p>\n",
    "\n",
    "![](plot\\w+ud.png)\n",
    "<p style=\"text-align:center;\">correlation coefficient = -0.399</p>\n",
    "\n",
    "![](plot\\uw+d.png)\n",
    "<p style=\"text-align:center;\">correlation coefficient = -0.544</p>\n",
    "\n",
    "![](plot\\w+d.png)\n",
    "<p style=\"text-align:center;\">correlation coefficient = -0.561</p>\n"
   ]
  },
  {
   "cell_type": "markdown",
   "metadata": {},
   "source": [
    "요일이 데이터에 미치는 영향을 줄이는 두 가지 방법을 모두 적용 했을 때 \n",
    "<em>correlation coefficient</em> = -0.561 이라는 결과를 얻을 수 있다. \n",
    "<br>이는 상당한 음적 선형(상관)관계를 의하며 따라서 관측기간 해당하는 2020년 2월 7일부터 2020년 5월 31일까지\n",
    "<br><b>'코로나 19 일일 확진자 수와 수도권 일일 지하철 이용객 수는 상관관계가 존재한다'</b>라는 가설을 입증할 수 있다.\n"
   ]
  },
  {
   "cell_type": "markdown",
   "metadata": {},
   "source": [
    "<br>\n",
    "2.<b>회귀 모델 만들기</b>"
   ]
  },
  {
   "cell_type": "markdown",
   "metadata": {},
   "source": [
    "![](plot\\linear.png)\n",
    "![](plot\\polynomial_3d.png)\n",
    "<p style=\"text-align:center;\">degree = 3</p>\n",
    "<br>\n",
    "<br>\n",
    "\n",
    "\n",
    "![](plot\\polynomial_5d.png)\n",
    "<p style=\"text-align:center;\">degree = 5</p>"
   ]
  },
  {
   "cell_type": "markdown",
   "metadata": {},
   "source": [
    "몇 가지 회귀 모델을 만들어보았다. 모델식의 차수가 늘어날수록 가지고 있는 데이터는 잘 나타내지만 5차식에서 기울기가 양수인 지점이 있는 것으로 보아 과적합이 발생했다."
   ]
  },
  {
   "cell_type": "markdown",
   "metadata": {},
   "source": [
    "<br>\n",
    "3.<b>아쉬운 점 및 향후 계획</b>\n",
    "\n",
    " 이번 프로젝트를 진행하면서 pandas, matplotlib등의 모듈을 다루는데 익숙해졌고 통계 분석에 쓰이는 수학적인 기법이나 원리에 대해서 공부할 수 있는 기회가 된 것 같다. 반면 전체 데이터에 비해 코로나 확진자 수가 100명을 넘는 데이터가 많지 않은 점(물론 앞으로도 그랬으면 좋겠다), open api를 이용하지 못한 점은 아쉬운 점이다.  데이터 보정 과정에서 주말, 공휴일을 선형으로 잇는 방법이 모델에 미치는 영향을 고려했을 때, 과연 그 방법이 좋은 것인지 생각해봐야 할 것 같다. 모델을 만들고 테스트할 때 cross-validation을 적용해보면 좋을 것 같다. 앞으로 데이터 분석 능력을 키워야 하겠다.\n"
   ]
  },
  {
   "cell_type": "markdown",
   "metadata": {},
   "source": [
    "<br>\n",
    "<h4 style=\"color:#005577;\">7) 활용한 오픈소스</h4>"
   ]
  },
  {
   "cell_type": "markdown",
   "metadata": {},
   "source": [
    "<br>\n",
    "선형회귀분석 :\n",
    "<a href=\"https://frhyme.github.io/machine-learning/regression_evaluation_score/\" target=\"_blank\">https://frhyme.github.io/machine-learning/regression_evaluation_score/</a>\n",
    "\n",
    "다항회귀분석 :\n",
    "https://m.blog.naver.com/PostView.nhn?blogId=tt2t2am1118&logNo=221182074409&proxyReferer=https:%2F%2Fwww.google.com%2F\n",
    "\n",
    "코드에 활용한 부분을 표시해놓았습니다.\n",
    "<br>그 외에 모든 코드는 직접 구현하였습니다.\n",
    "\n"
   ]
  },
  {
   "cell_type": "markdown",
   "metadata": {},
   "source": [
    "<br>\n",
    "<h4 style=\"color:#005577;\">8) 참고문헌</h4>"
   ]
  },
  {
   "cell_type": "markdown",
   "metadata": {},
   "source": [
    "https://rfriend.tistory.com/250  : read_csv 한글 깨짐 문제\n",
    "<br>\n",
    "https://rfriend.tistory.com/256  : concat()\n",
    "<br>\n",
    "https://www.youtube.com/watch?v=OwnaUVt6VVE - Rolling Mean, Regression, and Plotting\n",
    "<br>\n",
    "https://korbillgates.tistory.com/155 : pandas 그래프 그리기\n",
    "<br>\n",
    "https://blog.naver.com/PostView.nhn?blogId=okkam76&logNo=221328995340&parentCategoryNo=&categoryNo=27&viewDate=&isShowPopularPosts=false&from=postView : pandas 그래프 그리기\n",
    "<br>\n",
    "https://matplotlib.org/3.1.1/gallery/lines_bars_and_markers/bar_stacked.html#sphx-glr-gallery-lines-bars-and-markers-bar-stacked-py : pyplot 그래프 그리기\n",
    "<br>\n",
    "https://kongdols-room.tistory.com/87 : legend 설정하기\n",
    "<br>\n",
    "https://datascienceplus.com/linear-regression-in-python/ : python -선형회귀분석\n",
    "<br>\n",
    "https://m.blog.naver.com/PostView.nhn?blogId=will84&logNo=220348748198&proxyReferer=https:%2F%2Fwww.google.com%2F-  : r-sqaured의 의미\n",
    "<br>\n",
    "https://m.blog.naver.com/PostView.nhn?blogId=istech7&logNo=50152984368&proxyReferer=https:%2F%2Fwww.google.com%2F   : 선형회귀분석\n",
    "<br>\n",
    "https://ko.wikipedia.org/wiki/%EC%9C%A0%EC%9D%98_%ED%99%95%EB%A5%A0 : p-value의 의미\n",
    "<br>\n",
    "https://pandas.pydata.org/pandas-docs/stable/reference/api/pandas.DataFrame.iloc.html#pandas.DataFrame.iloc  : df.lioc 사용법\n",
    "<br>\n",
    "https://pandas.pydata.org/pandas-docs/stable/reference/api/pandas.DataFrame.loc.html#pandas.DataFrame.loc : df.loc 사용법\n",
    "<br>\n",
    "https://stackoverflow.com/questions/33268053/pandas-dataframe-index-datetime-date-converts-to-object-keyerror : datatime index error\n",
    "<br>\n",
    "https://pandas.pydata.org/pandas-docs/stable/reference/api/pandas.DataFrame.plot.scatter.html : pd.DataFrame.plot.scatter\n",
    "<br>\n",
    "https://blog.naver.com/PostView.nhn?blogId=y4769&logNo=220227007641 ; 상관분석\n",
    "<br>\n",
    "https://gomguard.tistory.com/173: 상관분석\n",
    "<br>\n",
    "https://ko.wikipedia.org/wiki/%EC%83%81%EA%B4%80_%EB%B6%84%EC%84%9D : 상관분석\n",
    "<br>\n",
    "https://m.blog.naver.com/sub_om/221828230101 : 상관분석\n",
    "<br>\n",
    "https://stackoverflow.com/questions/43133605/convert-integer-yyyymmdd-to-date-format-mm-dd-yyyy-in-python ; string to datetime\n",
    "<br>\n",
    "https://frhyme.github.io/machine-learning/regression_evaluation_score/ : 선형회귀분석(소스활용)\n",
    "<br>\n",
    "https://m.blog.naver.com/PostView.nhn?blogId=tt2t2am1118&logNo=221182074409&proxyReferer=https:%2F%2Fwww.google.com%2F : 다항회귀분석(소스활용) \n",
    "<br>\n",
    "https://scikit-learn.org/stable/modules/generated/sklearn.metrics.f1_score.html : f1_score()사용법"
   ]
  }
 ],
 "metadata": {
  "kernelspec": {
   "display_name": "Python 3",
   "language": "python",
   "name": "python3"
  },
  "language_info": {
   "codemirror_mode": {
    "name": "ipython",
    "version": 3
   },
   "file_extension": ".py",
   "mimetype": "text/x-python",
   "name": "python",
   "nbconvert_exporter": "python",
   "pygments_lexer": "ipython3",
   "version": "3.7.6"
  }
 },
 "nbformat": 4,
 "nbformat_minor": 4
}
