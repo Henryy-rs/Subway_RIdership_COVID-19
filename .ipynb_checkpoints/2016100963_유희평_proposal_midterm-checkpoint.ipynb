{
 "cells": [
  {
   "cell_type": "markdown",
   "metadata": {},
   "source": [
    "# 코로나바이러스 감염증-19의 진행과 지하철 이용객 수의 변화"
   ]
  },
  {
   "cell_type": "markdown",
   "metadata": {},
   "source": [
    "1) 프로젝트의 목표와 내용\n",
    "\n",
    "     1월 21일, 코로나바이러스 감염증-19 국내 첫 확진자가 발생하였다. 정부는 코로나19의 확산을 막기 위해 방역과 역학조사에 힘쓰며 동시에 위해 고강도 사회적 거리두기를 실천할 것을 국민들에게 촉구하였다. 코로나19 국내 첫 확진자 발생 후 부터 현재까지 기간 동안 수도권 지하철 이용객 수와 코로나19 감염 데이터 사이에 어떤 상관관계가 있는지, 코로나 발생 이후 지하철 이용객 수가 과거와 비교했을 때 어떤 차이가 있는지 분석하는 것이 본 프로젝트의 목표이다.\n",
    "    \n",
    "2) 주제 선정 이유 또는 이 프로젝트의 필요성\n",
    "    \n",
    "     코로나 19는 사회적으로 큰 영향을 끼쳤다. 코로나 19 발생 이후 대중교통을 거의 이용하지 않았지만 가끔 이용할 때 마다 이용객 수가 확연히 줄었다고 느꼈다. 또한 확진자, 사망자의 수에 따라 대중교통 이용자의 감소폭도 달라질 것이라는 직감했다. 단지 느낌을 넘어서 이를 데이터를 통해 입증하고 싶어 이 주제를 선택했다. 이 프로젝트가 성공적으로 마무리된다면 인간의 공포가 행동에 영향을 미치는 사례를 데이터를 통해 설명할 수 있을 것이다. \n",
    "     \n",
    "3) 데이터 획득\n",
    "\n",
    "    서울시 지하철호선별 역별 승하차 인원 정보\n",
    "    \n",
    "http://data.seoul.go.kr/dataList/OA-12914/S/1/datasetView.do\n",
    "    \n",
    "    보건복지부 코로나19 감염 현황(오픈 API이용)\n",
    "\n",
    "https://www.data.go.kr/data/15043376/openapi.do\n",
    "\n",
    "    서비스키 재발급, 서비스 재신청 등 다양한 시도에도 불구하고 servic key error가 지속적으로 발생하여 공공데이터포털 Q&A 게시판에 문의하였다.\n",
    "    \n",
    "    \n",
    "![Q&A](image.png)\n",
    "    \n",
    "    \n",
    "\n",
    "    서비스가 언제 다시 시작할지 알 수 없는 상황이라고 판단되어 임시 방편으로 다른 사이트에서 데이터를 확보했다.\n",
    "    \n",
    "https://puleunhaneulkr.tistory.com/32\n",
    "\n",
    "    \n",
    "4) 구현 내용 설명\n",
    "\n",
    "<em>지하철 이용객 감소 확인하기</em>\n",
    "\n",
    "  \n",
    "     \n",
    "<em>상관관계분석하여 상관관계 찾기</em> \n",
    "     "
   ]
  },
  {
   "cell_type": "markdown",
   "metadata": {},
   "source": [
    "<b>코로나와 지하철 데이터를 위한 추상클래스</b>"
   ]
  },
  {
   "cell_type": "code",
   "execution_count": 3,
   "metadata": {},
   "outputs": [],
   "source": [
    "import pandas as pd\n",
    "import datetime as dt\n",
    "import matplotlib.pyplot as plt\n",
    "#import numpy as np\n",
    "\n",
    "\n",
    "class Data:\n",
    "\n",
    "    def __init__(self, date_strat, date_end):\n",
    "\n",
    "        self.date_start = date_strat\n",
    "        self.date_end = date_end\n",
    "        self.df = pd.DataFrame()\n",
    "    \n",
    "    def initialize_df(self):\n",
    "        pass\n",
    "    \n",
    "    def print_df(self, day_of_week = None):\n",
    "\n",
    "        if day_of_week == None:\n",
    "            print(self.df)\n",
    "        else:\n",
    "            print(self.df[self.df['day_of_week'] == day_of_week])\n",
    "\n",
    "    def get_df(self):\n",
    "        return self.df"
   ]
  },
  {
   "cell_type": "markdown",
   "metadata": {},
   "source": [
    "Data 클래스를 상속 받아 특정 기간 동안 지하철 데이터를 dataframe으로 저장하는 클래스를 만들었다."
   ]
  },
  {
   "cell_type": "markdown",
   "metadata": {},
   "source": [
    "<b>지하철 데이터 클래스</b>"
   ]
  },
  {
   "cell_type": "code",
   "execution_count": 4,
   "metadata": {},
   "outputs": [],
   "source": [
    "class Subway_Data(Data):\n",
    "\n",
    "    def initialize_df(self):\n",
    "\n",
    "        year_start = int(self.date_start[0:4])    #입력받은 데이터를 년, 월로 쪼갠다. (csv파일을 불러오기 위해)\n",
    "        month_start = int(self.date_start[4:6])\n",
    "        year_end = int(self.date_end[0:4])\n",
    "        month_end = int(self.date_end[4:6])\n",
    "        months = 12*(year_end-year_start)-month_start+month_end+1\n",
    "        df = pd.DataFrame()\n",
    "\n",
    "        for i in range(months):\n",
    "            if month_start+i > 12:\n",
    "                year_start += 1\n",
    "                month_start -= 12\n",
    "            df_ = pd.read_csv('CARD_SUBWAY_MONTH_'+str(year_start)+str(month_start+i).zfill(2)+'.csv', encoding='CP949', \n",
    "            names=['date', 'line', 'station_id', 'station_name', 'num_on', 'num_off', 'date_rgs'] )\n",
    "            df_ = df_.drop(0)\n",
    "            if i == 0:\n",
    "                df_ = df_[df_['date'] >= self.date_start]\n",
    "            if i == months-1:\n",
    "                df_ = df_[df_['date'] <= self.date_end]\n",
    "            df = pd.concat([df, df_], ignore_index=True)  \n",
    "\n",
    "        df['num_pass'] = df['station_id'] # = 0(A value is trying to be set on a copy of a slice from a DataFrame)\n",
    "        for i in range(len(df)):\n",
    "            df['num_pass'].loc[i] = int(float(df['num_on'].loc[i])) + int(float(df['num_off'].loc[i])) #float로 바꾸고 int로 바꿔야함\n",
    "        #df['num_pass'].astype(int)\n",
    "        df['date'] = pd.to_datetime(df['date'], errors='coerce')\n",
    "        df['day_of_week'] = df['date'].dt.day_name()\n",
    "\n",
    "        df = df.drop('num_on', axis=1)\n",
    "        df = df.drop('num_off', axis=1)\n",
    "        df = df.drop('date_rgs', axis=1)\n",
    "        self.df = df\n",
    "\n",
    "    def get_subway_daily_df(self):\n",
    "\n",
    "        df = self.df\n",
    "        result_df = pd.DataFrame()\n",
    "        converted_date_start = dt.datetime.strptime(self.date_start, '%Y%m%d').date()\n",
    "        converted_date_end = dt.datetime.strptime(self.date_end, '%Y%m%d').date()\n",
    "        days = (converted_date_end-converted_date_start).days\n",
    "        \n",
    "        for i in range(days+1):\n",
    "            \n",
    "           date = converted_date_start + dt.timedelta(days=i)\n",
    "           converted_date = date.strftime('%Y%m%d')\n",
    "           #print(converted_date)\n",
    "           df_ = df[df['date'] == converted_date]\n",
    "           df__ = pd.DataFrame(data={'date': [date], 'num_pass': [df_['num_pass'].mean()], 'day_of_week' : [date.weekday()]}) #date.weekday()\n",
    "           #num_pass 는 모든 역의 일일 평균 이용객 수임\n",
    "           result_df = pd.concat([result_df, df__], ignore_index=True)\n",
    "           #if i == 1:\n",
    "           # print(df_)\n",
    "           # print(df_['num_pass'].mean())\n",
    "            \n",
    "        return result_df\n",
    "\n",
    "    def get_num_pass_mean(self, day_of_week = None):\n",
    "\n",
    "        if day_of_week == None:\n",
    "            return self.df['num_pass'].mean()\n",
    "        else:\n",
    "            return self.df[self.df['day_of_week'] == day_of_week]['num_pass'].mean()\n",
    "\n"
   ]
  },
  {
   "cell_type": "markdown",
   "metadata": {},
   "source": [
    "<b>Subway_Data 객체생성 예시</b>"
   ]
  },
  {
   "cell_type": "code",
   "execution_count": 12,
   "metadata": {
    "scrolled": true
   },
   "outputs": [
    {
     "data": {
      "text/html": [
       "<div>\n",
       "<style scoped>\n",
       "    .dataframe tbody tr th:only-of-type {\n",
       "        vertical-align: middle;\n",
       "    }\n",
       "\n",
       "    .dataframe tbody tr th {\n",
       "        vertical-align: top;\n",
       "    }\n",
       "\n",
       "    .dataframe thead th {\n",
       "        text-align: right;\n",
       "    }\n",
       "</style>\n",
       "<table border=\"1\" class=\"dataframe\">\n",
       "  <thead>\n",
       "    <tr style=\"text-align: right;\">\n",
       "      <th></th>\n",
       "      <th>date</th>\n",
       "      <th>line</th>\n",
       "      <th>station_id</th>\n",
       "      <th>station_name</th>\n",
       "      <th>num_pass</th>\n",
       "      <th>day_of_week</th>\n",
       "    </tr>\n",
       "  </thead>\n",
       "  <tbody>\n",
       "    <tr>\n",
       "      <th>0</th>\n",
       "      <td>2019-10-01</td>\n",
       "      <td>일산선</td>\n",
       "      <td>1957</td>\n",
       "      <td>주엽</td>\n",
       "      <td>23570</td>\n",
       "      <td>Tuesday</td>\n",
       "    </tr>\n",
       "    <tr>\n",
       "      <th>1</th>\n",
       "      <td>2019-10-01</td>\n",
       "      <td>일산선</td>\n",
       "      <td>1956</td>\n",
       "      <td>정발산</td>\n",
       "      <td>19111</td>\n",
       "      <td>Tuesday</td>\n",
       "    </tr>\n",
       "    <tr>\n",
       "      <th>2</th>\n",
       "      <td>2019-10-01</td>\n",
       "      <td>일산선</td>\n",
       "      <td>1955</td>\n",
       "      <td>마두</td>\n",
       "      <td>19808</td>\n",
       "      <td>Tuesday</td>\n",
       "    </tr>\n",
       "    <tr>\n",
       "      <th>3</th>\n",
       "      <td>2019-10-01</td>\n",
       "      <td>일산선</td>\n",
       "      <td>1954</td>\n",
       "      <td>백석</td>\n",
       "      <td>25461</td>\n",
       "      <td>Tuesday</td>\n",
       "    </tr>\n",
       "    <tr>\n",
       "      <th>4</th>\n",
       "      <td>2019-10-01</td>\n",
       "      <td>일산선</td>\n",
       "      <td>1953</td>\n",
       "      <td>대곡</td>\n",
       "      <td>3649</td>\n",
       "      <td>Tuesday</td>\n",
       "    </tr>\n",
       "  </tbody>\n",
       "</table>\n",
       "</div>"
      ],
      "text/plain": [
       "        date line station_id station_name num_pass day_of_week\n",
       "0 2019-10-01  일산선       1957           주엽    23570     Tuesday\n",
       "1 2019-10-01  일산선       1956          정발산    19111     Tuesday\n",
       "2 2019-10-01  일산선       1955           마두    19808     Tuesday\n",
       "3 2019-10-01  일산선       1954           백석    25461     Tuesday\n",
       "4 2019-10-01  일산선       1953           대곡     3649     Tuesday"
      ]
     },
     "execution_count": 12,
     "metadata": {},
     "output_type": "execute_result"
    }
   ],
   "source": [
    "test_subway = Subway_Data(\"20191001\", \"20200430\")\n",
    "test_subway.initialize_df()\n",
    "test_subway.df.head(5)\n"
   ]
  },
  {
   "cell_type": "markdown",
   "metadata": {},
   "source": [
    "Data 클래스를 상속받아 특정 기간 동안 코로나 데이터를 dataframe으로 저장하는 클래스를 만들었다."
   ]
  },
  {
   "cell_type": "markdown",
   "metadata": {},
   "source": [
    "<b>Subway_Data의 멤버 함수 get_subway_daily_df() 예시</b>"
   ]
  },
  {
   "cell_type": "code",
   "execution_count": null,
   "metadata": {},
   "outputs": [],
   "source": []
  },
  {
   "cell_type": "markdown",
   "metadata": {},
   "source": [
    "<b>코로나 데이터 클래스</b>"
   ]
  },
  {
   "cell_type": "code",
   "execution_count": 5,
   "metadata": {},
   "outputs": [],
   "source": [
    "class Corona_Data(Data):\n",
    "\n",
    "    def initialize_df(self):\n",
    "\n",
    "        date_start = self.date_start[0:4] + '-' + self.date_start[4:6] + '-' + self.date_start[6:8]\n",
    "        date_end = self.date_end[0:4] + '-' + self.date_end[4:6] + '-' + self.date_end[6:8]\n",
    "\n",
    "        df = pd.read_csv('wuhan_daily_diff.csv', encoding='CP949', names=['date', 'inspected', 'negative',\n",
    "        'confirmed', 'recoverd', 'deaths'])\n",
    "\n",
    "        df = df.drop(0)\n",
    "        df = df[df['date'] >= date_start]\n",
    "        df = df[df['date'] <= date_end]\n",
    "\n",
    "        df['date'] = pd.to_datetime(df['date'], errors='coerce') #datetime type으로 바꿈\n",
    "        df['day_of_week'] = df['date'].dt.day_name()\n",
    "        df['confirmed'] = df['confirmed'].astype(float)\n",
    "        df = df.reset_index(drop=True)\n",
    "\n",
    "        self.df = df "
   ]
  },
  {
   "cell_type": "markdown",
   "metadata": {},
   "source": [
    "<b>Corona_Data 객체생성 예시</b>"
   ]
  },
  {
   "cell_type": "code",
   "execution_count": 24,
   "metadata": {
    "scrolled": true
   },
   "outputs": [
    {
     "data": {
      "text/html": [
       "<div>\n",
       "<style scoped>\n",
       "    .dataframe tbody tr th:only-of-type {\n",
       "        vertical-align: middle;\n",
       "    }\n",
       "\n",
       "    .dataframe tbody tr th {\n",
       "        vertical-align: top;\n",
       "    }\n",
       "\n",
       "    .dataframe thead th {\n",
       "        text-align: right;\n",
       "    }\n",
       "</style>\n",
       "<table border=\"1\" class=\"dataframe\">\n",
       "  <thead>\n",
       "    <tr style=\"text-align: right;\">\n",
       "      <th></th>\n",
       "      <th>date</th>\n",
       "      <th>inspected</th>\n",
       "      <th>negative</th>\n",
       "      <th>confirmed</th>\n",
       "      <th>recoverd</th>\n",
       "      <th>deaths</th>\n",
       "      <th>day_of_week</th>\n",
       "    </tr>\n",
       "  </thead>\n",
       "  <tbody>\n",
       "    <tr>\n",
       "      <th>0</th>\n",
       "      <td>2020-03-01</td>\n",
       "      <td>10670.0</td>\n",
       "      <td>9755.0</td>\n",
       "      <td>476.0</td>\n",
       "      <td>1.0</td>\n",
       "      <td>4.0</td>\n",
       "      <td>Sunday</td>\n",
       "    </tr>\n",
       "    <tr>\n",
       "      <th>1</th>\n",
       "      <td>2020-03-02</td>\n",
       "      <td>16260.0</td>\n",
       "      <td>13904.0</td>\n",
       "      <td>600.0</td>\n",
       "      <td>3.0</td>\n",
       "      <td>6.0</td>\n",
       "      <td>Monday</td>\n",
       "    </tr>\n",
       "    <tr>\n",
       "      <th>2</th>\n",
       "      <td>2020-03-03</td>\n",
       "      <td>10856.0</td>\n",
       "      <td>17481.0</td>\n",
       "      <td>516.0</td>\n",
       "      <td>7.0</td>\n",
       "      <td>4.0</td>\n",
       "      <td>Tuesday</td>\n",
       "    </tr>\n",
       "    <tr>\n",
       "      <th>3</th>\n",
       "      <td>2020-03-04</td>\n",
       "      <td>9834.0</td>\n",
       "      <td>16000.0</td>\n",
       "      <td>438.0</td>\n",
       "      <td>47.0</td>\n",
       "      <td>3.0</td>\n",
       "      <td>Wednesday</td>\n",
       "    </tr>\n",
       "    <tr>\n",
       "      <th>4</th>\n",
       "      <td>2020-03-05</td>\n",
       "      <td>18199.0</td>\n",
       "      <td>17659.0</td>\n",
       "      <td>518.0</td>\n",
       "      <td>20.0</td>\n",
       "      <td>7.0</td>\n",
       "      <td>Thursday</td>\n",
       "    </tr>\n",
       "  </tbody>\n",
       "</table>\n",
       "</div>"
      ],
      "text/plain": [
       "        date inspected negative  confirmed recoverd deaths day_of_week\n",
       "0 2020-03-01   10670.0   9755.0      476.0      1.0    4.0      Sunday\n",
       "1 2020-03-02   16260.0  13904.0      600.0      3.0    6.0      Monday\n",
       "2 2020-03-03   10856.0  17481.0      516.0      7.0    4.0     Tuesday\n",
       "3 2020-03-04    9834.0  16000.0      438.0     47.0    3.0   Wednesday\n",
       "4 2020-03-05   18199.0  17659.0      518.0     20.0    7.0    Thursday"
      ]
     },
     "execution_count": 24,
     "metadata": {},
     "output_type": "execute_result"
    }
   ],
   "source": [
    "test_corona = Corona_Data(\"20200301\", \"20200331\")\n",
    "test_corona.initialize_df()\n",
    "test_corona.df.head(5)"
   ]
  },
  {
   "cell_type": "markdown",
   "metadata": {},
   "source": [
    "<b>코로나 데이터와 지하철 데이터를 합치는 함수</b>"
   ]
  },
  {
   "cell_type": "code",
   "execution_count": 19,
   "metadata": {},
   "outputs": [],
   "source": [
    "#지하철, 코로나 데이터를 하나의 dataframe으로 만들어주는 함수\n",
    "def concatenate(date_start, date_end, factor):\n",
    "    \n",
    "    test_subway = Subway_Data(date_start, date_end)\n",
    "    test_corona = Corona_Data(date_start, date_end)\n",
    "    test_subway.initialize_df()\n",
    "    test_corona.initialize_df()\n",
    "    test_df = pd.concat([test_subway.get_subway_daily_df().set_index('date'), test_corona.get_df().set_index('date')], axis = 1)\n",
    "    test_df = test_df.loc[:,~test_df.columns.duplicated()]\n",
    "    test_df = test_df.drop('inspected', axis=1)\n",
    "    test_df = test_df.drop('negative', axis=1)\n",
    "    #test_df = test_df.set_index('date')\n",
    "    \n",
    "    #가중치 구하기\n",
    "    test_weekday = Subway_Data('20170101', '20171231') #과거지하철 데이터 생성\n",
    "    test_weekday.initialize_df()\n",
    "    weekday_list = ['Monday', 'Tuesday', 'Wednesday', 'Thursday', 'Friday', 'Saturday', 'Sunday']\n",
    "    num_pass_mean_list = [] #요일별 이용객 수가 저장될 리스트\n",
    "    weight_list = [] #요일별 가중치가 저장될 리스트\n",
    "    i = 0\n",
    "    \n",
    "    for weekday in weekday_list:\n",
    "        num_pass_mean_list.append(test_weekday.get_num_pass_mean(day_of_week=weekday)) #Subway_Data의 메소드를 사용하여 요일별 평균을 구함\n",
    "\n",
    "    mean = sum(num_pass_mean_list)/len(num_pass_mean_list) #요일별 평균 이용객 수의 평균을 구한다.\n",
    "\n",
    "    for num_pass_mean in num_pass_mean_list:\n",
    "        weight_list.append((mean/num_pass_mean)**factor) #weight = 요일별 이용객 수 평균의 평균/요일별 평균\n",
    "\n",
    "    #가중치 곱해주기\n",
    "    for weight in weight_list:\n",
    "        test_df.loc[test_df['day_of_week'] == i, 'num_pass'] = test_df.loc[test_df['day_of_week'] == i, 'num_pass'] * weight\n",
    "        i += 1\n",
    "\n",
    "    test_df = test_df.drop('day_of_week', axis=1)\n",
    "    \n",
    "    \n",
    "    return test_df\n"
   ]
  },
  {
   "cell_type": "markdown",
   "metadata": {},
   "source": [
    " 지하철 이용객 수가 평일인지 주말인지에 따라 차이가 크기 때문에 요일별로 가중치를 주었다.\n",
    "과거 데이터에서 요일별로 이용객 평균을 구하여 이 요일별 평균의 평균값에서 나누어 주었다.\n",
    "요일의 특성에 의해 이용객 수가 낮다면 가중치가 1보다 클 것이고, 이용객 수가 높다면 가중치가 1보다 낮을 것이다.\n",
    "이를 통해 요일이 지하철 이용객 수에 미치는 영향을 줄일 수 있다.\n"
   ]
  },
  {
   "cell_type": "markdown",
   "metadata": {},
   "source": [
    "<b>concatenate() 실행 예시</b>"
   ]
  },
  {
   "cell_type": "code",
   "execution_count": 20,
   "metadata": {
    "scrolled": true
   },
   "outputs": [
    {
     "data": {
      "text/html": [
       "<div>\n",
       "<style scoped>\n",
       "    .dataframe tbody tr th:only-of-type {\n",
       "        vertical-align: middle;\n",
       "    }\n",
       "\n",
       "    .dataframe tbody tr th {\n",
       "        vertical-align: top;\n",
       "    }\n",
       "\n",
       "    .dataframe thead th {\n",
       "        text-align: right;\n",
       "    }\n",
       "</style>\n",
       "<table border=\"1\" class=\"dataframe\">\n",
       "  <thead>\n",
       "    <tr style=\"text-align: right;\">\n",
       "      <th></th>\n",
       "      <th>num_pass</th>\n",
       "      <th>confirmed</th>\n",
       "      <th>recoverd</th>\n",
       "      <th>deaths</th>\n",
       "    </tr>\n",
       "    <tr>\n",
       "      <th>date</th>\n",
       "      <th></th>\n",
       "      <th></th>\n",
       "      <th></th>\n",
       "      <th></th>\n",
       "    </tr>\n",
       "  </thead>\n",
       "  <tbody>\n",
       "    <tr>\n",
       "      <th>2020-02-10</th>\n",
       "      <td>23540.001692</td>\n",
       "      <td>1.0</td>\n",
       "      <td>1.0</td>\n",
       "      <td>0.0</td>\n",
       "    </tr>\n",
       "    <tr>\n",
       "      <th>2020-02-11</th>\n",
       "      <td>24388.129032</td>\n",
       "      <td>0.0</td>\n",
       "      <td>3.0</td>\n",
       "      <td>0.0</td>\n",
       "    </tr>\n",
       "    <tr>\n",
       "      <th>2020-02-12</th>\n",
       "      <td>23633.272881</td>\n",
       "      <td>0.0</td>\n",
       "      <td>0.0</td>\n",
       "      <td>0.0</td>\n",
       "    </tr>\n",
       "    <tr>\n",
       "      <th>2020-02-13</th>\n",
       "      <td>24709.585448</td>\n",
       "      <td>0.0</td>\n",
       "      <td>0.0</td>\n",
       "      <td>0.0</td>\n",
       "    </tr>\n",
       "    <tr>\n",
       "      <th>2020-02-14</th>\n",
       "      <td>26139.037288</td>\n",
       "      <td>0.0</td>\n",
       "      <td>2.0</td>\n",
       "      <td>0.0</td>\n",
       "    </tr>\n",
       "  </tbody>\n",
       "</table>\n",
       "</div>"
      ],
      "text/plain": [
       "                num_pass  confirmed recoverd deaths\n",
       "date                                               \n",
       "2020-02-10  23540.001692        1.0      1.0    0.0\n",
       "2020-02-11  24388.129032        0.0      3.0    0.0\n",
       "2020-02-12  23633.272881        0.0      0.0    0.0\n",
       "2020-02-13  24709.585448        0.0      0.0    0.0\n",
       "2020-02-14  26139.037288        0.0      2.0    0.0"
      ]
     },
     "execution_count": 20,
     "metadata": {},
     "output_type": "execute_result"
    }
   ],
   "source": [
    "test_concatenate = concatenate(date_start = \"20200210\", date_end =\"20200331\", factor = 0)\n",
    "test_concatenate.head(5)\n"
   ]
  },
  {
   "cell_type": "markdown",
   "metadata": {},
   "source": [
    "<b>지하철 이용객 감소 확인하기</b>"
   ]
  },
  {
   "cell_type": "code",
   "execution_count": 32,
   "metadata": {
    "scrolled": true
   },
   "outputs": [
    {
     "data": {
      "image/png": "[encoded data removed]",
      "text/plain": [
       "<Figure size 432x288 with 2 Axes>"
      ]
     },
     "metadata": {
      "needs_background": "light"
     },
     "output_type": "display_data"
    }
   ],
   "source": [
    "fig = plt.figure()\n",
    "\n",
    "test_df = concatenate('20191201','20200430', 0)#가중치 없을 때\n",
    "ax1 = fig.add_subplot(2, 1, 1)\n",
    "ax1 = test_df['num_pass'].plot(kind='line')\n",
    "ax1.set_ylabel('num passenger')\n",
    "ax1 = test_df['confirmed'].plot(secondary_y=True, kind='line', color='red')\n",
    "ax1.set_ylabel('num confirmed')\n",
    "\n",
    "plt.legend(['num_confirmed'], bbox_to_anchor=(1.05, 1.0))\n",
    "plt.title('Changes in subway use')\n",
    "plt.show()"
   ]
  },
  {
   "cell_type": "markdown",
   "metadata": {},
   "source": [
    "코로나 확진자 수가 늘어나면서 지하철 이용객 수가 감소했고, 천천히 회복중임을 알 수 있다."
   ]
  },
  {
   "cell_type": "code",
   "execution_count": 48,
   "metadata": {
    "scrolled": false
   },
   "outputs": [
    {
     "data": {
      "image/png": "[encoded data removed]",
      "text/plain": [
       "<Figure size 432x288 with 1 Axes>"
      ]
     },
     "metadata": {
      "needs_background": "light"
     },
     "output_type": "display_data"
    }
   ],
   "source": [
    "fig = plt.figure()\n",
    "\n",
    "test_subway1 = Subway_Data(\"20180201\", \"20180430\")\n",
    "test_subway2 = Subway_Data(\"20190201\", \"20190430\")\n",
    "test_subway3 = Subway_Data(\"20200201\", \"20200430\")\n",
    "test_subway1.initialize_df()\n",
    "test_subway2.initialize_df()\n",
    "test_subway3.initialize_df()\n",
    "test_df1 = test_subway1.get_subway_daily_df()\n",
    "test_df2 = test_subway2.get_subway_daily_df()\n",
    "test_df3 = test_subway3.get_subway_daily_df()\n",
    "\n",
    "ax1 = fig.add_subplot(3, 1, 1)\n",
    "ax1 = test_df1['num_pass'].plot(kind='line', color='blue')\n",
    "ax1 = test_df2['num_pass'].plot(kind='line', color='green')\n",
    "ax1 = test_df3['num_pass'].plot(kind='line', color='red', linewidth=2.0)\n",
    "ax1.set_ylabel('num passenger')\n",
    "ax1.set_xlabel('2.01~4.30')\n",
    "plt.legend(['2018', '2019', '2020'], bbox_to_anchor=(1.05, 1.0))\n",
    "plt.title('Changes in subway use')\n",
    "plt.show()"
   ]
  },
  {
   "cell_type": "markdown",
   "metadata": {},
   "source": [
    "2020년(빨간색) 이용객 수가 2018,2019년 동기 대비 감소한 것을 확인할 수 있다. 2019년(초록색) 초반에 낮은 부분은 설날 연휴였다."
   ]
  },
  {
   "cell_type": "markdown",
   "metadata": {},
   "source": [
    "<b>가중치의 지수와 그래프의 모양 변화</b>"
   ]
  },
  {
   "cell_type": "code",
   "execution_count": 14,
   "metadata": {
    "scrolled": true
   },
   "outputs": [
    {
     "data": {
      "image/png": "[encoded data removed]",
      "text/plain": [
       "<Figure size 432x288 with 1 Axes>"
      ]
     },
     "metadata": {
      "needs_background": "light"
     },
     "output_type": "display_data"
    }
   ],
   "source": [
    "fig = plt.figure()\n",
    "\n",
    "ax2 = fig.add_subplot(4, 1, 1)\n",
    "\n",
    "\n",
    "test_df1 = concatenate('20200207','20200430', 0) #가중치 없을 때\n",
    "test_df2 = concatenate('20200207','20200430', 1)\n",
    "test_df3 = concatenate('20200207','20200430', 1.5)\n",
    "test_df4 = concatenate('20200207','20200430', 2.0)\n",
    "    \n",
    "\n",
    "ax2 = test_df1['num_pass'].plot(kind='line', color='red')\n",
    "ax2 = test_df2['num_pass'].plot(kind='line', color='green')\n",
    "ax2 = test_df3['num_pass'].plot(kind='line', color='blue')\n",
    "ax2 = test_df4['num_pass'].plot(kind='line', color='black')\n",
    "ax2.set_ylabel('num passenger')\n",
    "\n",
    "\n",
    "plt.legend(['fac = 0', 'fac = 1', 'fac = 1.5', 'fac = 2.0'], bbox_to_anchor=(1.05, 1.0))\n",
    "plt.title('Shape of Graphs by Factors')\n",
    "plt.show()"
   ]
  },
  {
   "cell_type": "markdown",
   "metadata": {},
   "source": [
    "![](ShapeofGraphes.png)"
   ]
  },
  {
   "cell_type": "markdown",
   "metadata": {},
   "source": [
    "factor가 1.5일 때 가장 부드러운 모습을 보인다.\n",
    "factor가 2일 때는 오히려 주말 이용객 수가 평일 이용객 수보다 많아진다."
   ]
  },
  {
   "cell_type": "markdown",
   "metadata": {},
   "source": [
    "<b>선형회귀분석</b>"
   ]
  },
  {
   "cell_type": "code",
   "execution_count": 8,
   "metadata": {
    "scrolled": true
   },
   "outputs": [
    {
     "name": "stdout",
     "output_type": "stream",
     "text": [
      "Coefficients: 17598.567681763874\n",
      "Intercept: -6.489342500791874\n",
      "P-Values: [2.00831133e-63 1.31899261e-04]\n",
      "R-Squared: 0.1641437306712381\n"
     ]
    }
   ],
   "source": [
    "#%pylab inline\n",
    "import pylab as pl\n",
    "import numpy as np\n",
    "#from sklearn import datasets, linear_model\n",
    "import pandas as pd\n",
    "import statsmodels.api as sm\n",
    "\n",
    "\n",
    "test_df = concatenate('20200207','20200430', 1.5)\n",
    "\n",
    "# import the cleaned up dataset\n",
    "#df = pd.read_csv(~/loanf.csv')\n",
    "\n",
    "\n",
    "intrate = test_df['num_pass']\n",
    "loanamt = test_df['confirmed']\n",
    "#fico = df['FICO.Score']\n",
    "                 \n",
    "# reshape the data from a pandas Series to columns \n",
    "# the dependent variable\n",
    "y = np.matrix(intrate).transpose()\n",
    "# the independent variables shaped as columns\n",
    "#x1 = np.matrix(fico).transpose()\n",
    "x = np.matrix(loanamt).transpose()\n",
    "\n",
    "# put the two columns together to create an input matrix \n",
    "# if we had n independent variables we would have n columns here\n",
    "#x = np.column_stack([x1,x2])\n",
    "                 \n",
    "# create a linear model and fit it to the data\n",
    "X = sm.add_constant(x)\n",
    "model = sm.OLS(y,X)\n",
    "f = model.fit()\n",
    "print ('Coefficients:', f.params[0])\n",
    "print ('Intercept:', f.params[1])\n",
    "print ('P-Values:', f.pvalues)\n",
    "print ('R-Squared:', f.rsquared)\n",
    "          \n",
    "#소스 출처 : https://datascienceplus.com/linear-regression-in-python/"
   ]
  },
  {
   "cell_type": "markdown",
   "metadata": {},
   "source": [
    " 독립변수 X에 일일 확진자 수를 두고, 종속변수 Y에 지하철 이용객 수를 두고 선형회귀모델을 만들어보았다.\n",
    " r-squared 값도 낮고 p-value값도 0.05를 넘지 않는다. 이용객 수 데이터에서 토요일과 일요일을 없애고 금요일과 월요일을 직선으로 잇는 모양의 그래프가 나오도록 데이터를 수정해보았다."
   ]
  },
  {
   "cell_type": "code",
   "execution_count": 34,
   "metadata": {},
   "outputs": [],
   "source": [
    "def concatenate_drop(date_start, date_end):\n",
    "    \n",
    "    test_subway = Subway_Data(date_start, date_end)\n",
    "    test_corona = Corona_Data(date_start, date_end)\n",
    "    test_subway.initialize_df()\n",
    "    test_corona.initialize_df()\n",
    "    test_df = pd.concat([test_subway.get_subway_daily_df().set_index('date'), test_corona.get_df().set_index('date')], axis = 1)\n",
    "    test_df = test_df.loc[:,~test_df.columns.duplicated()]\n",
    "    test_df = test_df.drop('inspected', axis=1)\n",
    "    test_df = test_df.drop('negative', axis=1)\n",
    "    test_df.index = pd.to_datetime(test_df.index)\n",
    "    len_df = len(test_df)\n",
    "    \n",
    "    for i in range(len_df):\n",
    "        if test_df.iloc[i, 1] == 5 : #index의 요일이 토요일일때\n",
    "            if 0 < i < len_df-1 :\n",
    "                test_df.iloc[i, 0] = (4/3)*test_df.iloc[i-1,0] - (1/3)*test_df.iloc[i-1,0] \n",
    "            #금요일과 월요일의 이용객 수 차를 1:2로 내분하는 지점 + 금요일 이용객 수\n",
    "        elif test_df.iloc[i, 1] == 6 :\n",
    "            if 1 < i < len_df :\n",
    "                test_df.iloc[i, 0] = (5/3)*test_df.iloc[i+1,0] - (2/3)*test_df.iloc[i-2,0] # 2:1로 내분하는 지점\n",
    "    test_df.loc['2020-04-15', 'num_pass'] = 0.5*(test_df.loc['2020-04-14', 'num_pass'] + test_df.loc['2020-04-16', 'num_pass'])\n",
    "    test_df.loc['2020-04-30', 'num_pass'] = 0.5*(test_df.loc['2020-04-29', 'num_pass'] + test_df.loc['2020-04-28', 'num_pass']) #4월 31이 없어서 이렇게 처리함\n",
    "        \n",
    "    \n",
    "    test_df = test_df.drop('day_of_week', axis=1)\n",
    "    \n",
    "    \n",
    "    return test_df"
   ]
  },
  {
   "cell_type": "code",
   "execution_count": 42,
   "metadata": {
    "scrolled": false
   },
   "outputs": [
    {
     "data": {
      "image/png": "[encoded data removed]",
      "text/plain": [
       "<Figure size 432x288 with 1 Axes>"
      ]
     },
     "metadata": {
      "needs_background": "light"
     },
     "output_type": "display_data"
    }
   ],
   "source": [
    "fig = plt.figure()\n",
    "\n",
    "test_df = concatenate_drop('20200207','20200430')#가중치 없을 때\n",
    "ax1 = fig.add_subplot(1, 1, 1)\n",
    "ax1 = test_df['num_pass'].plot(kind='line')\n",
    "ax1.set_ylabel('num passenger')\n",
    "#ax1 = test_df['confirmed'].plot(secondary_y=True, kind='line', color='red')\n",
    "#ax1.set_ylabel('num confirmed')\n",
    "\n",
    "plt.legend(['num_pass'], bbox_to_anchor=(1.05, 1.0))\n",
    "plt.title('Changes in subway use')\n",
    "plt.show()"
   ]
  },
  {
   "cell_type": "markdown",
   "metadata": {},
   "source": [
    "훨씬 부드러워진 모습이다. 2020년 4월 15일 총선, 4월 30일 부처님 오신날은 전날, 다음날의 이용객 수의 평균으로 바꾸었다."
   ]
  },
  {
   "cell_type": "code",
   "execution_count": 40,
   "metadata": {
    "scrolled": true
   },
   "outputs": [
    {
     "name": "stdout",
     "output_type": "stream",
     "text": [
      "Coefficients: 20707.62538680537\n",
      "Intercept: -6.926724430398895\n",
      "P-Values: [3.69537326e-75 2.14922253e-06]\n",
      "R-Squared: 0.24080735227188788\n"
     ]
    }
   ],
   "source": [
    "intrate = test_df['num_pass']\n",
    "loanamt = test_df['confirmed']\n",
    "#fico = df['FICO.Score']\n",
    "                 \n",
    "# reshape the data from a pandas Series to columns \n",
    "# the dependent variable\n",
    "y = np.matrix(intrate).transpose()\n",
    "# the independent variables shaped as columns\n",
    "#x1 = np.matrix(fico).transpose()\n",
    "x = np.matrix(loanamt).transpose()\n",
    "\n",
    "# put the two columns together to create an input matrix \n",
    "# if we had n independent variables we would have n columns here\n",
    "#x = np.column_stack([x1,x2])\n",
    "                 \n",
    "# create a linear model and fit it to the data\n",
    "X = sm.add_constant(x)\n",
    "model = sm.OLS(y,X)\n",
    "f = model.fit()\n",
    "print ('Coefficients:', f.params[0])\n",
    "print ('Intercept:', f.params[1])\n",
    "print ('P-Values:', f.pvalues)\n",
    "print ('R-Squared:', f.rsquared)\n",
    "          \n",
    "#소스 출처 : https://datascienceplus.com/linear-regression-in-python/"
   ]
  },
  {
   "cell_type": "markdown",
   "metadata": {},
   "source": [
    "약간 나아졋지만 이번에도 좋은 결과를 얻지 못했다. 이유가 무엇일까?"
   ]
  },
  {
   "cell_type": "code",
   "execution_count": 59,
   "metadata": {
    "scrolled": true
   },
   "outputs": [
    {
     "data": {
      "text/plain": [
       "<Figure size 432x288 with 0 Axes>"
      ]
     },
     "metadata": {},
     "output_type": "display_data"
    },
    {
     "data": {
      "image/png": "[encoded data removed]",
      "text/plain": [
       "<Figure size 432x288 with 1 Axes>"
      ]
     },
     "metadata": {
      "needs_background": "light"
     },
     "output_type": "display_data"
    },
    {
     "name": "stdout",
     "output_type": "stream",
     "text": [
      "--------Correlation analysis--------\n",
      "\n",
      "           num_pass  confirmed\n",
      "num_pass   1.000000  -0.490721\n",
      "confirmed -0.490721   1.000000\n"
     ]
    }
   ],
   "source": [
    "fig = plt.figure()\n",
    "\n",
    "\n",
    "#ax1 = fig.add_subplot(1, 1, 1)\n",
    "ax1.set_xticklabels('confirmed', rotation=0)\n",
    "\n",
    "ax1 = test_df.plot.scatter(x='confirmed', y='num_pass')\n",
    "ax1.set_ylabel('num passenger')\n",
    "ax1.set_xlabel('num daliy confrimed')\n",
    "#ax1 = test_df['confirmed'].plot(secondary_y=True, kind='line', color='red')\n",
    "#ax1.set_ylabel('num confirmed')\n",
    "plt.title('Scatter')\n",
    "plt.show()\n",
    "\n",
    "\n",
    "corr = test_df.corr(method ='pearson') #피어슨 상관 분석\n",
    "print(\"--------Correlation analysis--------\\n\")\n",
    "print(corr)"
   ]
  },
  {
   "cell_type": "markdown",
   "metadata": {},
   "source": [
    "산점도를 그려보니 위의 결과가 나왔다. \n",
    "\n",
    "correlation coefficient 약 -0.49로 뚜렷한 음적 선형관계를 나타낸다."
   ]
  },
  {
   "cell_type": "code",
   "execution_count": null,
   "metadata": {},
   "outputs": [],
   "source": []
  }
 ],
 "metadata": {
  "kernelspec": {
   "display_name": "Python 3",
   "language": "python",
   "name": "python3"
  },
  "language_info": {
   "codemirror_mode": {
    "name": "ipython",
    "version": 3
   },
   "file_extension": ".py",
   "mimetype": "text/x-python",
   "name": "python",
   "nbconvert_exporter": "python",
   "pygments_lexer": "ipython3",
   "version": "3.7.6"
  }
 },
 "nbformat": 4,
 "nbformat_minor": 4
}
